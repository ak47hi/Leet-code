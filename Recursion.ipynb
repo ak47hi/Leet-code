{
 "cells": [
  {
   "cell_type": "code",
   "execution_count": 3,
   "metadata": {},
   "outputs": [],
   "source": [
    "from typing import List\n",
    "from collections import Counter"
   ]
  },
  {
   "cell_type": "code",
   "execution_count": 4,
   "metadata": {},
   "outputs": [],
   "source": [
    "# At each level of recursive Tree\n",
    "#     * Iterate/don't iterate over the elements of the input set\n",
    "#         if there are rem_choices left\n",
    "#             1. decide what to remove from the rem_choices\n",
    "#             2. decide what we put in the solution set(curr).\n",
    "        \n",
    "res = []\n",
    "curr = []\n",
    "def exhuastive_recursion(cur_ans, rem_choices):\n",
    "    if not rem_choices:\n",
    "        res.add(cur_ans)     \n",
    "    for each_choice in rem_choices: \n",
    "        new_rem_choices = rem_choices[:] #don't forget to copy THEN --> remove(each_choice) #{new_rem_choices.pop(index) / new_rem_choices.remove(val)}\n",
    "        new_curr = curr + [each_choice]\n",
    "        exhuastive_recursion(new_curr, new_rem_choices)"
   ]
  },
  {
   "cell_type": "code",
   "execution_count": 5,
   "metadata": {},
   "outputs": [
    {
     "data": {
      "text/plain": [
       "[[], [3], [2], [2, 3], [1], [1, 3], [1, 2], [1, 2, 3]]"
      ]
     },
     "execution_count": 5,
     "metadata": {},
     "output_type": "execute_result"
    }
   ],
   "source": [
    "# https://leetcode.com/problems/subsets/description/\n",
    "\n",
    "def subsets(nums: List[int]) -> List[List[int]]:\n",
    "    res = []\n",
    "    def rec(curr, rem_choices):\n",
    "        if not rem_choices :\n",
    "            res.append(curr)\n",
    "            return \n",
    "        else:\n",
    "            new_rem_choices = rem_choices[:]\n",
    "            new_curr = curr + [new_rem_choices.pop(0)]\n",
    "            rec(curr, new_rem_choices)\n",
    "            rec(new_curr, new_rem_choices)\n",
    "\n",
    "    rec([], nums)\n",
    "    return res\n",
    "\n",
    "nums = [1,2,3]\n",
    "subsets(nums)"
   ]
  },
  {
   "cell_type": "code",
   "execution_count": 6,
   "metadata": {},
   "outputs": [
    {
     "data": {
      "text/plain": [
       "[[1, 2], [1, 3], [1, 4], [2, 3], [2, 4], [3, 4]]"
      ]
     },
     "execution_count": 6,
     "metadata": {},
     "output_type": "execute_result"
    }
   ],
   "source": [
    "# https://leetcode.com/problems/combinations/\n",
    "def combine(n: int, k: int) -> List[List[int]]:\n",
    "    res = []\n",
    "    def rec(curr, rem_choices):\n",
    "        if len(curr) == k:\n",
    "            res.append(curr)\n",
    "        else: \n",
    "            if rem_choices:\n",
    "                new_rem_choices = rem_choices[:]\n",
    "                new_curr = curr + [new_rem_choices.pop(0)]\n",
    "                rec(new_curr, new_rem_choices)\n",
    "                rec(curr, new_rem_choices)\n",
    "    \n",
    "    rec([], list(range(1,n+1)))\n",
    "    return res\n",
    "\n",
    "n, k = 4,2\n",
    "combine(n,k)\n"
   ]
  },
  {
   "cell_type": "code",
   "execution_count": 7,
   "metadata": {},
   "outputs": [
    {
     "data": {
      "text/plain": [
       "[[], [1], [2], [3], [2, 3], [1, 2], [1, 3], [1, 2, 3]]"
      ]
     },
     "execution_count": 7,
     "metadata": {},
     "output_type": "execute_result"
    }
   ],
   "source": [
    "# https://leetcode.com/problems/subsets/\n",
    "# Same as above \n",
    "# here we just include the new_curr in the RES if it is not already in res, and \n",
    "# we stop when there are no more rem_choices(base case)\n",
    " \n",
    "def subsets(nums: List[int]) -> List[List[int]]:\n",
    "    res = []\n",
    "    def rec(curr, rem_choices):\n",
    "        if not rem_choices:\n",
    "            return \n",
    "        else : \n",
    "            new_rem_choices = rem_choices[:]\n",
    "            new_curr = curr + [new_rem_choices.pop(0)]\n",
    "            if new_curr not in res:\n",
    "                res.append(new_curr)\n",
    "            rec(curr, new_rem_choices)\n",
    "            rec(new_curr, new_rem_choices)\n",
    "    rec([], nums)\n",
    "    return [[]]+ res\n",
    "\n",
    "nums = [1,2,3]\n",
    "subsets(nums)\n",
    "\n",
    "\n",
    "# The power set is the set that contains all subsets of a given set"
   ]
  },
  {
   "cell_type": "code",
   "execution_count": 8,
   "metadata": {},
   "outputs": [
    {
     "data": {
      "text/plain": [
       "['((()))', '(()())', '(())()', '()(())', '()()()']"
      ]
     },
     "execution_count": 8,
     "metadata": {},
     "output_type": "execute_result"
    }
   ],
   "source": [
    "# https://leetcode.com/problems/generate-parentheses/\n",
    "# CHOICES : ADD '(' OR ')' AFTER THE CURRENT\n",
    "# THE TRICK HERE IS TO KEEP THE OPENING BRACES LESS THAN CLOSING BASES UNTIL WE HIT THE BASE CASE\n",
    "\n",
    "def generateParenthesis(n: int) -> List[str]:\n",
    "    res = []\n",
    "    def rec(curr, openP, closeP):\n",
    "        if openP == closeP == n:\n",
    "            res.append(curr)\n",
    "            return \n",
    "        else:\n",
    "            if openP < n:\n",
    "                new_curr = f\"{curr}(\"\n",
    "                rec(new_curr, openP+1, closeP)\n",
    "            if openP > closeP:\n",
    "                new_curr = f\"{curr})\"\n",
    "                rec(new_curr, openP, closeP+1)\n",
    "    rec('',0,0)\n",
    "    return res\n",
    "\n",
    "\n",
    "generateParenthesis(3)"
   ]
  },
  {
   "cell_type": "code",
   "execution_count": 9,
   "metadata": {},
   "outputs": [
    {
     "data": {
      "text/plain": [
       "['ad', 'ae', 'af', 'bd', 'be', 'bf', 'cd', 'ce', 'cf']"
      ]
     },
     "execution_count": 9,
     "metadata": {},
     "output_type": "execute_result"
    }
   ],
   "source": [
    "# https://leetcode.com/problems/letter-combinations-of-a-phone-number/\n",
    "# Simple\n",
    "def letterCombinations(digits: str) -> List[str]:\n",
    "    hash_set = {\n",
    "        \"2\" : [\"a\",\"b\",\"c\"],\n",
    "        \"3\" : [\"d\",\"e\",\"f\"],\n",
    "        \"4\" : [\"g\",\"h\",\"i\"],\n",
    "        \"5\" : [\"j\",\"k\",\"l\"],\n",
    "        \"6\" : [\"m\",\"n\",\"o\"],\n",
    "        \"7\" : [\"p\",\"q\",\"r\",\"s\"],\n",
    "        \"8\" : [\"t\",\"u\",\"v\"],\n",
    "        \"9\" : [\"w\",\"x\",\"y\",\"z\"],\n",
    "    }\n",
    "    res = []\n",
    "    def rec(curr, rem_choices):\n",
    "        if not rem_choices:\n",
    "            res.append(curr)\n",
    "        else:\n",
    "            new_rem_choices = rem_choices[:]\n",
    "            for letter in hash_set[new_rem_choices.pop(0)]:\n",
    "                rec(curr + letter, new_rem_choices)\n",
    "    \n",
    "    rec(\"\", list(digits))\n",
    "    return [] if res == [\"\"] else res\n",
    "\n",
    "\n",
    "letterCombinations('23')"
   ]
  },
  {
   "cell_type": "code",
   "execution_count": 10,
   "metadata": {},
   "outputs": [
    {
     "data": {
      "text/plain": [
       "[[1, 2, 3], [1, 3, 2], [2, 1, 3], [2, 3, 1], [3, 1, 2], [3, 2, 1]]"
      ]
     },
     "execution_count": 10,
     "metadata": {},
     "output_type": "execute_result"
    }
   ],
   "source": [
    "# https://leetcode.com/problems/permutations/description/\n",
    "def permute(nums: List[int]) -> List[List[int]]:\n",
    "    res = []\n",
    "\n",
    "    def rec(curr, rem_choices):\n",
    "        if not rem_choices : \n",
    "            res.append(curr)\n",
    "        else : \n",
    "            for i in range(0,len(rem_choices)):\n",
    "                new_curr = curr + [rem_choices[i]]\n",
    "                new_rem_choices = rem_choices[:]\n",
    "                new_rem_choices.pop(i)\n",
    "                rec(new_curr,new_rem_choices)\n",
    "    rec([], nums)\n",
    "    return res\n",
    "\n",
    "nums = [1,2,3]\n",
    "permute(nums)\n"
   ]
  },
  {
   "cell_type": "code",
   "execution_count": 11,
   "metadata": {},
   "outputs": [],
   "source": [
    "# Important NOTE: For all combination sum problems(for the next three problems)\n",
    "# question type: to find different combinations of integers in an given array that sum up to the given target\n",
    "# the new_remchoices would be rem_choices[i+1:] if no repetation is allowed (which means we don't include the current go into the next call stack)\n",
    "# the new_remchoices would be rem_choices[i:] if repetation is allowed (which means we include the current go into the next call stack)\n",
    "\n",
    "\n",
    "## WHY?\n",
    "# because the i-1 solutions would already capture the previous iterations 0,1....i "
   ]
  },
  {
   "cell_type": "code",
   "execution_count": 12,
   "metadata": {},
   "outputs": [
    {
     "data": {
      "text/plain": [
       "[[2, 2, 3], [7]]"
      ]
     },
     "execution_count": 12,
     "metadata": {},
     "output_type": "execute_result"
    }
   ],
   "source": [
    "# https://leetcode.com/problems/combination-sum/\n",
    "def combinationSum(candidates: List[int], target: int) -> List[List[int]]:\n",
    "    res = []\n",
    "    seen = []\n",
    "    candidates.sort()\n",
    "    def rec(curr, rem_choices):\n",
    "        if sum(curr) == target:\n",
    "            res.append(curr)\n",
    "        elif sum(curr) > target :\n",
    "            return \n",
    "        else:\n",
    "            for i in range(len(rem_choices)):\n",
    "                new_rem_choices = rem_choices[i:]\n",
    "                rec(curr + [rem_choices[i]], new_rem_choices)\n",
    "    rec([], candidates)\n",
    "    return res\n",
    "\n",
    "candidates = [2,3,6,7]\n",
    "target = 7\n",
    "\n",
    "combinationSum(candidates, target)\n"
   ]
  },
  {
   "cell_type": "code",
   "execution_count": 13,
   "metadata": {},
   "outputs": [
    {
     "data": {
      "text/plain": [
       "[[1, 1, 6], [1, 2, 5], [1, 7], [2, 6]]"
      ]
     },
     "execution_count": 13,
     "metadata": {},
     "output_type": "execute_result"
    }
   ],
   "source": [
    "# https://leetcode.com/problems/combination-sum-ii/\n",
    "\n",
    "def combinationSum2(candidates: List[int], target: int) -> List[List[int]]:\n",
    "    res = []\n",
    "    candidates.sort()\n",
    "    def rec(curr, rem_choices,curr_sum):\n",
    "        if curr_sum == target :\n",
    "            if  curr not in res:\n",
    "                res.append(curr)\n",
    "\n",
    "        elif not rem_choices or curr_sum > target: \n",
    "            return \n",
    "        else : \n",
    "            for i in range(len(rem_choices)):\n",
    "                if rem_choices[i] == rem_choices[i-1] and i != 0 :continue # skipping to avoid repetitive call stacks\n",
    "                rec(curr + [rem_choices[i]], rem_choices[i+1:],curr_sum+rem_choices[i])\n",
    "                \n",
    "    rec([], candidates, 0)\n",
    "    return res\n",
    "\n",
    "candidates = [10,1,2,7,6,1,5]\n",
    "target = 8\n",
    "\n",
    "combinationSum2(candidates, target)                 \n",
    "\n",
    "            "
   ]
  },
  {
   "cell_type": "code",
   "execution_count": 14,
   "metadata": {},
   "outputs": [
    {
     "data": {
      "text/plain": [
       "[[1, 2, 4]]"
      ]
     },
     "execution_count": 14,
     "metadata": {},
     "output_type": "execute_result"
    }
   ],
   "source": [
    "# https://leetcode.com/problems/combination-sum-iii/\n",
    "def combinationSum3(k: int, n: int) -> List[List[int]]:\n",
    "    res = []\n",
    "    choices = [i for i in range(1,10)]\n",
    "    def rec(curr, rem_choices, curr_sum, rem):\n",
    "        if curr_sum == n and rem == k :\n",
    "            res.append(curr)\n",
    "        else:\n",
    "            if rem < k and curr_sum < n:\n",
    "                for i in range(len(rem_choices)):\n",
    "                    new_rem_choices = rem_choices[i+1:]\n",
    "                    new_curr = curr + [rem_choices[i]]\n",
    "                    rec(new_curr, new_rem_choices, curr_sum + rem_choices[i], rem + 1)\n",
    "    rec([], choices, 0,0 )\n",
    "    return res\n",
    "\n",
    "k = 3\n",
    "n = 7\n",
    "combinationSum3(k,n)"
   ]
  },
  {
   "cell_type": "code",
   "execution_count": 15,
   "metadata": {},
   "outputs": [
    {
     "data": {
      "text/plain": [
       "[[2, 2, 3], [2, 6], [3, 4]]"
      ]
     },
     "execution_count": 15,
     "metadata": {},
     "output_type": "execute_result"
    }
   ],
   "source": [
    "# https://leetcode.com/problems/factor-combinations/description/\n",
    "\n",
    "# Trick here is to iterate from last ele in curr,\n",
    "    # why?\n",
    "    # same logic as in combinations as we have already found the possible factors until i (as repetition is allowed we also included i)  \n",
    "    # in trees, which grow from 1....i at the current level in the recursion\n",
    "\n",
    "def getFactors(n: int) -> List[List[int]]:\n",
    "    res = []\n",
    "    def rec(curr, rem):\n",
    "        if rem == 1:\n",
    "            res.append(curr)\n",
    "            return\n",
    "        else : \n",
    "            for i in range(2 if curr == [] else curr[-1],n if rem == n else rem +1 ):\n",
    "                if rem % i == 0 :\n",
    "                    new_curr = curr + [i]\n",
    "                    new_rem = rem//i\n",
    "                    rec(new_curr, new_rem)\n",
    "    if n ==1 :return []\n",
    "    rec([], n)\n",
    "    return res\n",
    "\n",
    "getFactors(n = 12)"
   ]
  },
  {
   "cell_type": "code",
   "execution_count": null,
   "metadata": {},
   "outputs": [],
   "source": [
    "# https://leetcode.com/problems/letter-case-permutation/\n",
    "# Easy only do upper / lower recursion on char if is a digit \n",
    "\n",
    "class Solution:\n",
    "    def letterCasePermutation(self, s: str) -> List[str]:\n",
    "        res = []\n",
    "        def rec(curr, rem_choices):\n",
    "            if not rem_choices:\n",
    "                res.append(curr)\n",
    "            else:\n",
    "                new_rem_choices = rem_choices[:]\n",
    "                out_char = new_rem_choices.pop(0)\n",
    "                if not out_char.isdigit():\n",
    "                    rec(curr + [out_char.lower()], new_rem_choices)\n",
    "                    rec(curr + [out_char.upper()], new_rem_choices)\n",
    "                else : \n",
    "                    rec(curr + [out_char], new_rem_choices)\n",
    "        rec([],list(s))\n",
    "        return [''.join(word) for word in res ]"
   ]
  },
  {
   "cell_type": "code",
   "execution_count": 42,
   "metadata": {},
   "outputs": [
    {
     "data": {
      "text/plain": [
       "True"
      ]
     },
     "execution_count": 42,
     "metadata": {},
     "output_type": "execute_result"
    }
   ],
   "source": [
    "\n",
    "counter1 = Counter({'apple': 3, 'banana': 2, 'orange': 1})\n",
    "counter2 = Counter({ 'banana': 2,'apple': 3, 'orange': 1})\n",
    "counter1 == counter2"
   ]
  },
  {
   "cell_type": "code",
   "execution_count": 79,
   "metadata": {},
   "outputs": [
    {
     "data": {
      "text/plain": [
       "[]"
      ]
     },
     "execution_count": 79,
     "metadata": {},
     "output_type": "execute_result"
    }
   ],
   "source": [
    "\n",
    "candidates = [2,3,6,7]\n",
    "counter = {num:0 for num in candidates }\n",
    "candidates[100:]"
   ]
  },
  {
   "cell_type": "code",
   "execution_count": 57,
   "metadata": {},
   "outputs": [],
   "source": [
    "counter[2] = +1"
   ]
  },
  {
   "cell_type": "code",
   "execution_count": 67,
   "metadata": {},
   "outputs": [
    {
     "name": "stdout",
     "output_type": "stream",
     "text": [
      "{2: 1, 3: 0, 6: 0, 7: 0}\n",
      "{2: 6, 3: 0, 6: 0, 7: 0}\n"
     ]
    }
   ],
   "source": [
    "# cp_counter = counter.copy()\n",
    "cp_counter[2] += 1\n",
    "print(counter)\n",
    "print(cp_counter)"
   ]
  },
  {
   "cell_type": "code",
   "execution_count": 51,
   "metadata": {},
   "outputs": [],
   "source": [
    "candidates.extend([9,8])"
   ]
  },
  {
   "cell_type": "code",
   "execution_count": 52,
   "metadata": {},
   "outputs": [
    {
     "data": {
      "text/plain": [
       "[2, 3, 6, 7, 9, 8]"
      ]
     },
     "execution_count": 52,
     "metadata": {},
     "output_type": "execute_result"
    }
   ],
   "source": [
    "candidates"
   ]
  },
  {
   "cell_type": "code",
   "execution_count": 70,
   "metadata": {},
   "outputs": [
    {
     "data": {
      "text/plain": [
       "[[2, 2, 2, 2, 2, 2, 2, 2, 2, 2, 2, 2, 2, 2, 2, 5],\n",
       " [2, 2, 2, 2, 2, 2, 2, 2, 2, 2, 2, 2, 2, 4, 5],\n",
       " [2, 2, 2, 2, 2, 2, 2, 2, 2, 2, 2, 4, 4, 5],\n",
       " [2, 2, 2, 2, 2, 2, 2, 2, 2, 2, 2, 5, 8],\n",
       " [2, 2, 2, 2, 2, 2, 2, 2, 2, 2, 2, 13],\n",
       " [2, 2, 2, 2, 2, 2, 2, 2, 2, 2, 5, 5, 5],\n",
       " [2, 2, 2, 2, 2, 2, 2, 2, 2, 2, 5, 10],\n",
       " [2, 2, 2, 2, 2, 2, 2, 2, 2, 2, 15],\n",
       " [2, 2, 2, 2, 2, 2, 2, 2, 2, 4, 4, 4, 5],\n",
       " [2, 2, 2, 2, 2, 2, 2, 2, 2, 4, 5, 8],\n",
       " [2, 2, 2, 2, 2, 2, 2, 2, 2, 4, 13],\n",
       " [2, 2, 2, 2, 2, 2, 2, 2, 2, 5, 12],\n",
       " [2, 2, 2, 2, 2, 2, 2, 2, 2, 17],\n",
       " [2, 2, 2, 2, 2, 2, 2, 2, 4, 5, 5, 5],\n",
       " [2, 2, 2, 2, 2, 2, 2, 2, 4, 5, 10],\n",
       " [2, 2, 2, 2, 2, 2, 2, 2, 4, 15],\n",
       " [2, 2, 2, 2, 2, 2, 2, 2, 5, 14],\n",
       " [2, 2, 2, 2, 2, 2, 2, 4, 4, 4, 4, 5],\n",
       " [2, 2, 2, 2, 2, 2, 2, 4, 4, 5, 8],\n",
       " [2, 2, 2, 2, 2, 2, 2, 4, 4, 13],\n",
       " [2, 2, 2, 2, 2, 2, 2, 4, 5, 12],\n",
       " [2, 2, 2, 2, 2, 2, 2, 4, 17],\n",
       " [2, 2, 2, 2, 2, 2, 2, 5, 8, 8],\n",
       " [2, 2, 2, 2, 2, 2, 2, 5, 16],\n",
       " [2, 2, 2, 2, 2, 2, 2, 8, 13],\n",
       " [2, 2, 2, 2, 2, 2, 4, 4, 5, 5, 5],\n",
       " [2, 2, 2, 2, 2, 2, 4, 4, 5, 10],\n",
       " [2, 2, 2, 2, 2, 2, 4, 4, 15],\n",
       " [2, 2, 2, 2, 2, 2, 4, 5, 14],\n",
       " [2, 2, 2, 2, 2, 2, 5, 5, 5, 8],\n",
       " [2, 2, 2, 2, 2, 2, 5, 5, 13],\n",
       " [2, 2, 2, 2, 2, 2, 5, 8, 10],\n",
       " [2, 2, 2, 2, 2, 2, 8, 15],\n",
       " [2, 2, 2, 2, 2, 2, 10, 13],\n",
       " [2, 2, 2, 2, 2, 2, 23],\n",
       " [2, 2, 2, 2, 2, 4, 4, 4, 4, 4, 5],\n",
       " [2, 2, 2, 2, 2, 4, 4, 4, 5, 8],\n",
       " [2, 2, 2, 2, 2, 4, 4, 4, 13],\n",
       " [2, 2, 2, 2, 2, 4, 4, 5, 12],\n",
       " [2, 2, 2, 2, 2, 4, 4, 17],\n",
       " [2, 2, 2, 2, 2, 4, 5, 8, 8],\n",
       " [2, 2, 2, 2, 2, 4, 5, 16],\n",
       " [2, 2, 2, 2, 2, 4, 8, 13],\n",
       " [2, 2, 2, 2, 2, 5, 5, 5, 5, 5],\n",
       " [2, 2, 2, 2, 2, 5, 5, 5, 10],\n",
       " [2, 2, 2, 2, 2, 5, 5, 15],\n",
       " [2, 2, 2, 2, 2, 5, 8, 12],\n",
       " [2, 2, 2, 2, 2, 5, 10, 10],\n",
       " [2, 2, 2, 2, 2, 8, 17],\n",
       " [2, 2, 2, 2, 2, 10, 15],\n",
       " [2, 2, 2, 2, 2, 12, 13],\n",
       " [2, 2, 2, 2, 4, 4, 4, 5, 5, 5],\n",
       " [2, 2, 2, 2, 4, 4, 4, 5, 10],\n",
       " [2, 2, 2, 2, 4, 4, 4, 15],\n",
       " [2, 2, 2, 2, 4, 4, 5, 14],\n",
       " [2, 2, 2, 2, 4, 5, 5, 5, 8],\n",
       " [2, 2, 2, 2, 4, 5, 5, 13],\n",
       " [2, 2, 2, 2, 4, 5, 8, 10],\n",
       " [2, 2, 2, 2, 4, 8, 15],\n",
       " [2, 2, 2, 2, 4, 10, 13],\n",
       " [2, 2, 2, 2, 4, 23],\n",
       " [2, 2, 2, 2, 5, 5, 5, 12],\n",
       " [2, 2, 2, 2, 5, 5, 17],\n",
       " [2, 2, 2, 2, 5, 8, 14],\n",
       " [2, 2, 2, 2, 5, 10, 12],\n",
       " [2, 2, 2, 2, 5, 22],\n",
       " [2, 2, 2, 2, 10, 17],\n",
       " [2, 2, 2, 2, 12, 15],\n",
       " [2, 2, 2, 2, 13, 14],\n",
       " [2, 2, 2, 2, 27],\n",
       " [2, 2, 2, 4, 4, 4, 4, 4, 4, 5],\n",
       " [2, 2, 2, 4, 4, 4, 4, 5, 8],\n",
       " [2, 2, 2, 4, 4, 4, 4, 13],\n",
       " [2, 2, 2, 4, 4, 4, 5, 12],\n",
       " [2, 2, 2, 4, 4, 4, 17],\n",
       " [2, 2, 2, 4, 4, 5, 8, 8],\n",
       " [2, 2, 2, 4, 4, 5, 16],\n",
       " [2, 2, 2, 4, 4, 8, 13],\n",
       " [2, 2, 2, 4, 5, 5, 5, 5, 5],\n",
       " [2, 2, 2, 4, 5, 5, 5, 10],\n",
       " [2, 2, 2, 4, 5, 5, 15],\n",
       " [2, 2, 2, 4, 5, 8, 12],\n",
       " [2, 2, 2, 4, 5, 10, 10],\n",
       " [2, 2, 2, 4, 8, 17],\n",
       " [2, 2, 2, 4, 10, 15],\n",
       " [2, 2, 2, 4, 12, 13],\n",
       " [2, 2, 2, 5, 5, 5, 14],\n",
       " [2, 2, 2, 5, 8, 8, 8],\n",
       " [2, 2, 2, 5, 8, 16],\n",
       " [2, 2, 2, 5, 10, 14],\n",
       " [2, 2, 2, 5, 12, 12],\n",
       " [2, 2, 2, 5, 24],\n",
       " [2, 2, 2, 8, 8, 13],\n",
       " [2, 2, 2, 12, 17],\n",
       " [2, 2, 2, 13, 16],\n",
       " [2, 2, 2, 14, 15],\n",
       " [2, 2, 2, 29],\n",
       " [2, 2, 4, 4, 4, 4, 5, 5, 5],\n",
       " [2, 2, 4, 4, 4, 4, 5, 10],\n",
       " [2, 2, 4, 4, 4, 4, 15],\n",
       " [2, 2, 4, 4, 4, 5, 14],\n",
       " [2, 2, 4, 4, 5, 5, 5, 8],\n",
       " [2, 2, 4, 4, 5, 5, 13],\n",
       " [2, 2, 4, 4, 5, 8, 10],\n",
       " [2, 2, 4, 4, 8, 15],\n",
       " [2, 2, 4, 4, 10, 13],\n",
       " [2, 2, 4, 4, 23],\n",
       " [2, 2, 4, 5, 5, 5, 12],\n",
       " [2, 2, 4, 5, 5, 17],\n",
       " [2, 2, 4, 5, 8, 14],\n",
       " [2, 2, 4, 5, 10, 12],\n",
       " [2, 2, 4, 5, 22],\n",
       " [2, 2, 4, 10, 17],\n",
       " [2, 2, 4, 12, 15],\n",
       " [2, 2, 4, 13, 14],\n",
       " [2, 2, 4, 27],\n",
       " [2, 2, 5, 5, 5, 8, 8],\n",
       " [2, 2, 5, 5, 5, 16],\n",
       " [2, 2, 5, 5, 8, 13],\n",
       " [2, 2, 5, 8, 8, 10],\n",
       " [2, 2, 5, 10, 16],\n",
       " [2, 2, 5, 12, 14],\n",
       " [2, 2, 5, 13, 13],\n",
       " [2, 2, 8, 8, 15],\n",
       " [2, 2, 8, 10, 13],\n",
       " [2, 2, 8, 23],\n",
       " [2, 2, 14, 17],\n",
       " [2, 2, 15, 16],\n",
       " [2, 2, 31],\n",
       " [2, 4, 4, 4, 4, 4, 4, 4, 5],\n",
       " [2, 4, 4, 4, 4, 4, 5, 8],\n",
       " [2, 4, 4, 4, 4, 4, 13],\n",
       " [2, 4, 4, 4, 4, 5, 12],\n",
       " [2, 4, 4, 4, 4, 17],\n",
       " [2, 4, 4, 4, 5, 8, 8],\n",
       " [2, 4, 4, 4, 5, 16],\n",
       " [2, 4, 4, 4, 8, 13],\n",
       " [2, 4, 4, 5, 5, 5, 5, 5],\n",
       " [2, 4, 4, 5, 5, 5, 10],\n",
       " [2, 4, 4, 5, 5, 15],\n",
       " [2, 4, 4, 5, 8, 12],\n",
       " [2, 4, 4, 5, 10, 10],\n",
       " [2, 4, 4, 8, 17],\n",
       " [2, 4, 4, 10, 15],\n",
       " [2, 4, 4, 12, 13],\n",
       " [2, 4, 5, 5, 5, 14],\n",
       " [2, 4, 5, 8, 8, 8],\n",
       " [2, 4, 5, 8, 16],\n",
       " [2, 4, 5, 10, 14],\n",
       " [2, 4, 5, 12, 12],\n",
       " [2, 4, 5, 24],\n",
       " [2, 4, 8, 8, 13],\n",
       " [2, 4, 12, 17],\n",
       " [2, 4, 13, 16],\n",
       " [2, 4, 14, 15],\n",
       " [2, 4, 29],\n",
       " [2, 5, 5, 5, 5, 5, 8],\n",
       " [2, 5, 5, 5, 5, 13],\n",
       " [2, 5, 5, 5, 8, 10],\n",
       " [2, 5, 5, 8, 15],\n",
       " [2, 5, 5, 10, 13],\n",
       " [2, 5, 5, 23],\n",
       " [2, 5, 8, 8, 12],\n",
       " [2, 5, 8, 10, 10],\n",
       " [2, 5, 12, 16],\n",
       " [2, 5, 13, 15],\n",
       " [2, 5, 14, 14],\n",
       " [2, 5, 28],\n",
       " [2, 8, 8, 17],\n",
       " [2, 8, 10, 15],\n",
       " [2, 8, 12, 13],\n",
       " [2, 10, 10, 13],\n",
       " [2, 10, 23],\n",
       " [2, 16, 17],\n",
       " [4, 4, 4, 4, 4, 5, 5, 5],\n",
       " [4, 4, 4, 4, 4, 5, 10],\n",
       " [4, 4, 4, 4, 4, 15],\n",
       " [4, 4, 4, 4, 5, 14],\n",
       " [4, 4, 4, 5, 5, 5, 8],\n",
       " [4, 4, 4, 5, 5, 13],\n",
       " [4, 4, 4, 5, 8, 10],\n",
       " [4, 4, 4, 8, 15],\n",
       " [4, 4, 4, 10, 13],\n",
       " [4, 4, 4, 23],\n",
       " [4, 4, 5, 5, 5, 12],\n",
       " [4, 4, 5, 5, 17],\n",
       " [4, 4, 5, 8, 14],\n",
       " [4, 4, 5, 10, 12],\n",
       " [4, 4, 5, 22],\n",
       " [4, 4, 10, 17],\n",
       " [4, 4, 12, 15],\n",
       " [4, 4, 13, 14],\n",
       " [4, 4, 27],\n",
       " [4, 5, 5, 5, 8, 8],\n",
       " [4, 5, 5, 5, 16],\n",
       " [4, 5, 5, 8, 13],\n",
       " [4, 5, 8, 8, 10],\n",
       " [4, 5, 10, 16],\n",
       " [4, 5, 12, 14],\n",
       " [4, 5, 13, 13],\n",
       " [4, 8, 8, 15],\n",
       " [4, 8, 10, 13],\n",
       " [4, 8, 23],\n",
       " [4, 14, 17],\n",
       " [4, 15, 16],\n",
       " [4, 31],\n",
       " [5, 5, 5, 5, 5, 5, 5],\n",
       " [5, 5, 5, 5, 5, 10],\n",
       " [5, 5, 5, 5, 15],\n",
       " [5, 5, 5, 8, 12],\n",
       " [5, 5, 5, 10, 10],\n",
       " [5, 5, 8, 17],\n",
       " [5, 5, 10, 15],\n",
       " [5, 5, 12, 13],\n",
       " [5, 8, 8, 14],\n",
       " [5, 8, 10, 12],\n",
       " [5, 8, 22],\n",
       " [5, 10, 10, 10],\n",
       " [5, 13, 17],\n",
       " [5, 14, 16],\n",
       " [5, 15, 15],\n",
       " [5, 30],\n",
       " [8, 10, 17],\n",
       " [8, 12, 15],\n",
       " [8, 13, 14],\n",
       " [8, 27],\n",
       " [10, 10, 15],\n",
       " [10, 12, 13],\n",
       " [12, 23],\n",
       " [13, 22]]"
      ]
     },
     "execution_count": 70,
     "metadata": {},
     "output_type": "execute_result"
    }
   ],
   "source": [
    "#TLE using hash_map , ask why?\n",
    "\n",
    "candidates = [2,22,4,17,28,13,39,27,24,37,12,30,5,23,29,8,16,34,15,36,14,10,31]\n",
    "target = 35\n",
    "def combinationSum(candidates: List[int], target: int) -> List[List[int]]:\n",
    "    res = []\n",
    "    seen = []\n",
    "    candidates.sort()\n",
    "    curr = {num:0 for num in candidates }\n",
    "    def cal_sum(curr_dict):\n",
    "        s = 0 \n",
    "        for k,v in curr_dict.items():\n",
    "            s += k*v\n",
    "        return s\n",
    "    \n",
    "    def get_list(curr_dict ):\n",
    "        res= []\n",
    "        for k,v in curr_dict.items():\n",
    "            res.extend([k]*v)\n",
    "        return res\n",
    "\n",
    "\n",
    "    def rec(curr):\n",
    "        curr_sum = cal_sum(curr)\n",
    "        if curr_sum == target:\n",
    "            res.append(get_list(curr))\n",
    "        if curr_sum > target :\n",
    "            return\n",
    "        for num in candidates:\n",
    "            new_curr = curr.copy()\n",
    "            new_curr[num] += 1\n",
    "            if new_curr not in seen : \n",
    "                seen.append(new_curr)\n",
    "                rec(new_curr)\n",
    "    rec(curr)\n",
    "    return res\n",
    "\n",
    "combinationSum(candidates, target)"
   ]
  },
  {
   "cell_type": "code",
   "execution_count": null,
   "metadata": {},
   "outputs": [],
   "source": []
  }
 ],
 "metadata": {
  "kernelspec": {
   "display_name": "Python 3",
   "language": "python",
   "name": "python3"
  },
  "language_info": {
   "codemirror_mode": {
    "name": "ipython",
    "version": 3
   },
   "file_extension": ".py",
   "mimetype": "text/x-python",
   "name": "python",
   "nbconvert_exporter": "python",
   "pygments_lexer": "ipython3",
   "version": "3.12.4"
  }
 },
 "nbformat": 4,
 "nbformat_minor": 2
}

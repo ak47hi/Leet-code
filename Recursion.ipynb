{
 "cells": [
  {
   "cell_type": "code",
   "execution_count": 3,
   "metadata": {},
   "outputs": [],
   "source": [
    "from typing import List"
   ]
  },
  {
   "cell_type": "markdown",
   "metadata": {},
   "source": [
    "At each level of recursive Tree\n",
    "    * Iterate/don't iterate over the elements of the input set\n",
    "        if there are rem_choices left\n",
    "            1. decide what to remove from the rem_choices\n",
    "            2. decide what we put in the solution set(curr).\n",
    "        \n",
    "\n",
    "def exhuastive_recursion(cur_ans, rem_choices, result):\n",
    "    if not rem_choices:\n",
    "        result.add(cur_ans)     \n",
    "    for each_choice in rem_choices: \n",
    "        rem_choices = rem_choices.copy.remove(each_choice) #don't forget to copy\n",
    "        exhuastive_recursion(cur_ans, rem_choices, result)"
   ]
  },
  {
   "cell_type": "code",
   "execution_count": 6,
   "metadata": {},
   "outputs": [
    {
     "data": {
      "text/plain": [
       "[[1, 2], [1, 3], [1, 4], [2, 3], [2, 4], [3, 4]]"
      ]
     },
     "execution_count": 6,
     "metadata": {},
     "output_type": "execute_result"
    }
   ],
   "source": [
    "# https://leetcode.com/problems/combinations/\n",
    "def combine(n: int, k: int) -> List[List[int]]:\n",
    "    res = []\n",
    "    def rec(curr, rem_choices):\n",
    "        if len(curr) == k:\n",
    "            res.append(curr)\n",
    "        else: \n",
    "            if rem_choices:\n",
    "                new_rem_choices = rem_choices[:]\n",
    "                new_curr = curr + [new_rem_choices.pop(0)]\n",
    "                rec(new_curr, new_rem_choices)\n",
    "                rec(curr, new_rem_choices)\n",
    "    \n",
    "    rec([], list(range(1,n+1)))\n",
    "    return res\n",
    "\n",
    "n, k = 4,2\n",
    "combine(n,k)\n"
   ]
  },
  {
   "cell_type": "code",
   "execution_count": 11,
   "metadata": {},
   "outputs": [
    {
     "data": {
      "text/plain": [
       "[[], [1], [2], [3], [2, 3], [1, 2], [1, 3], [1, 2, 3]]"
      ]
     },
     "execution_count": 11,
     "metadata": {},
     "output_type": "execute_result"
    }
   ],
   "source": [
    "# https://leetcode.com/problems/subsets/\n",
    "# Same as above \n",
    "# here we just include the new_curr in the RES if it is not already in res, and \n",
    "# we stop when there are no more rem_choices(base case)\n",
    " \n",
    "def subsets(nums: List[int]) -> List[List[int]]:\n",
    "    res = []\n",
    "    def rec(curr, rem_choices):\n",
    "        if not rem_choices:\n",
    "            return \n",
    "        else : \n",
    "            new_rem_choices = rem_choices[:]\n",
    "            new_curr = curr + [new_rem_choices.pop(0)]\n",
    "            if new_curr not in res:\n",
    "                res.append(new_curr)\n",
    "            rec(curr, new_rem_choices)\n",
    "            rec(new_curr, new_rem_choices)\n",
    "    rec([], nums)\n",
    "    return [[]]+ res\n",
    "\n",
    "nums = [1,2,3]\n",
    "subsets(nums)\n",
    "\n",
    "\n",
    "# The power set is the set that contains all subsets of a given set"
   ]
  },
  {
   "cell_type": "code",
   "execution_count": null,
   "metadata": {},
   "outputs": [],
   "source": []
  }
 ],
 "metadata": {
  "kernelspec": {
   "display_name": "Python 3",
   "language": "python",
   "name": "python3"
  },
  "language_info": {
   "codemirror_mode": {
    "name": "ipython",
    "version": 3
   },
   "file_extension": ".py",
   "mimetype": "text/x-python",
   "name": "python",
   "nbconvert_exporter": "python",
   "pygments_lexer": "ipython3",
   "version": "3.12.4"
  }
 },
 "nbformat": 4,
 "nbformat_minor": 2
}

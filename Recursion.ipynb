{
 "cells": [
  {
   "cell_type": "code",
   "execution_count": 3,
   "metadata": {},
   "outputs": [],
   "source": [
    "from typing import List"
   ]
  },
  {
   "cell_type": "markdown",
   "metadata": {},
   "source": [
    "At each level of recursive Tree\n",
    "    * Iterate/don't iterate over the elements of the input set\n",
    "        if there are rem_choices left\n",
    "            1. decide what to remove from the rem_choices\n",
    "            2. decide what we put in the solution set(curr).\n",
    "        \n",
    "res = []\n",
    "def exhuastive_recursion(cur_ans, rem_choices):\n",
    "    if not rem_choices:\n",
    "        result.add(cur_ans)     \n",
    "    for each_choice in rem_choices: \n",
    "        new_rem_choices = rem_choices[:] don't forget to copy THEN --> remove(each_choice) #{new_rem_choices.pop(index) / new_rem_choices.remove(val)}\n",
    "        new_curr = curr + [each_choice]\n",
    "        exhuastive_recursion(new_curr, new_rem_choices)"
   ]
  },
  {
   "cell_type": "code",
   "execution_count": 6,
   "metadata": {},
   "outputs": [
    {
     "data": {
      "text/plain": [
       "[[1, 2], [1, 3], [1, 4], [2, 3], [2, 4], [3, 4]]"
      ]
     },
     "execution_count": 6,
     "metadata": {},
     "output_type": "execute_result"
    }
   ],
   "source": [
    "# https://leetcode.com/problems/combinations/\n",
    "def combine(n: int, k: int) -> List[List[int]]:\n",
    "    res = []\n",
    "    def rec(curr, rem_choices):\n",
    "        if len(curr) == k:\n",
    "            res.append(curr)\n",
    "        else: \n",
    "            if rem_choices:\n",
    "                new_rem_choices = rem_choices[:]\n",
    "                new_curr = curr + [new_rem_choices.pop(0)]\n",
    "                rec(new_curr, new_rem_choices)\n",
    "                rec(curr, new_rem_choices)\n",
    "    \n",
    "    rec([], list(range(1,n+1)))\n",
    "    return res\n",
    "\n",
    "n, k = 4,2\n",
    "combine(n,k)\n"
   ]
  },
  {
   "cell_type": "code",
   "execution_count": 11,
   "metadata": {},
   "outputs": [
    {
     "data": {
      "text/plain": [
       "[[], [1], [2], [3], [2, 3], [1, 2], [1, 3], [1, 2, 3]]"
      ]
     },
     "execution_count": 11,
     "metadata": {},
     "output_type": "execute_result"
    }
   ],
   "source": [
    "# https://leetcode.com/problems/subsets/\n",
    "# Same as above \n",
    "# here we just include the new_curr in the RES if it is not already in res, and \n",
    "# we stop when there are no more rem_choices(base case)\n",
    " \n",
    "def subsets(nums: List[int]) -> List[List[int]]:\n",
    "    res = []\n",
    "    def rec(curr, rem_choices):\n",
    "        if not rem_choices:\n",
    "            return \n",
    "        else : \n",
    "            new_rem_choices = rem_choices[:]\n",
    "            new_curr = curr + [new_rem_choices.pop(0)]\n",
    "            if new_curr not in res:\n",
    "                res.append(new_curr)\n",
    "            rec(curr, new_rem_choices)\n",
    "            rec(new_curr, new_rem_choices)\n",
    "    rec([], nums)\n",
    "    return [[]]+ res\n",
    "\n",
    "nums = [1,2,3]\n",
    "subsets(nums)\n",
    "\n",
    "\n",
    "# The power set is the set that contains all subsets of a given set"
   ]
  },
  {
   "cell_type": "code",
   "execution_count": 16,
   "metadata": {},
   "outputs": [
    {
     "data": {
      "text/plain": [
       "['((()))', '(()())', '(())()', '()(())', '()()()']"
      ]
     },
     "execution_count": 16,
     "metadata": {},
     "output_type": "execute_result"
    }
   ],
   "source": [
    "# https://leetcode.com/problems/generate-parentheses/\n",
    "# CHOICES : ADD '(' OR ')' AFTER THE CURRENT\n",
    "# THE TRICK HERE IS TO KEEP THE OPENING BRACES LESS THAN CLOSING BASES UNTIL WE HIT THE BASE CASE\n",
    "\n",
    "def generateParenthesis(n: int) -> List[str]:\n",
    "    res = []\n",
    "    def rec(curr, openP, closeP):\n",
    "        if openP == closeP == n:\n",
    "            res.append(curr)\n",
    "            return \n",
    "        else:\n",
    "            if openP < n:\n",
    "                new_curr = f\"{curr}(\"\n",
    "                rec(new_curr, openP+1, closeP)\n",
    "            if openP > closeP:\n",
    "                new_curr = f\"{curr})\"\n",
    "                rec(new_curr, openP, closeP+1)\n",
    "    rec('',0,0)\n",
    "    return res\n",
    "\n",
    "\n",
    "generateParenthesis(3)"
   ]
  },
  {
   "cell_type": "code",
   "execution_count": 17,
   "metadata": {},
   "outputs": [
    {
     "data": {
      "text/plain": [
       "['ad', 'ae', 'af', 'bd', 'be', 'bf', 'cd', 'ce', 'cf']"
      ]
     },
     "execution_count": 17,
     "metadata": {},
     "output_type": "execute_result"
    }
   ],
   "source": [
    "# https://leetcode.com/problems/letter-combinations-of-a-phone-number/\n",
    "# Simple\n",
    "def letterCombinations(digits: str) -> List[str]:\n",
    "    hash_set = {\n",
    "        \"2\" : [\"a\",\"b\",\"c\"],\n",
    "        \"3\" : [\"d\",\"e\",\"f\"],\n",
    "        \"4\" : [\"g\",\"h\",\"i\"],\n",
    "        \"5\" : [\"j\",\"k\",\"l\"],\n",
    "        \"6\" : [\"m\",\"n\",\"o\"],\n",
    "        \"7\" : [\"p\",\"q\",\"r\",\"s\"],\n",
    "        \"8\" : [\"t\",\"u\",\"v\"],\n",
    "        \"9\" : [\"w\",\"x\",\"y\",\"z\"],\n",
    "    }\n",
    "    res = []\n",
    "    def rec(curr, rem_choices):\n",
    "        if not rem_choices:\n",
    "            res.append(curr)\n",
    "        else:\n",
    "            new_rem_choices = rem_choices[:]\n",
    "            for letter in hash_set[new_rem_choices.pop(0)]:\n",
    "                rec(curr + letter, new_rem_choices)\n",
    "    \n",
    "    rec(\"\", list(digits))\n",
    "    return [] if res == [\"\"] else res\n",
    "\n",
    "\n",
    "letterCombinations('23')"
   ]
  },
  {
   "cell_type": "code",
   "execution_count": 18,
   "metadata": {},
   "outputs": [
    {
     "data": {
      "text/plain": [
       "[[1, 2, 3], [1, 3, 2], [2, 1, 3], [2, 3, 1], [3, 1, 2], [3, 2, 1]]"
      ]
     },
     "execution_count": 18,
     "metadata": {},
     "output_type": "execute_result"
    }
   ],
   "source": [
    "def permute(nums: List[int]) -> List[List[int]]:\n",
    "    res = []\n",
    "\n",
    "    def rec(curr, rem_choices):\n",
    "        if not rem_choices : \n",
    "            res.append(curr)\n",
    "        else : \n",
    "            for i in range(0,len(rem_choices)):\n",
    "                new_curr = curr + [rem_choices[i]]\n",
    "                new_rem_choices = rem_choices[:]\n",
    "                new_rem_choices.pop(i)\n",
    "                rec(new_curr,new_rem_choices)\n",
    "    rec([], nums)\n",
    "    return res\n",
    "\n",
    "nums = [1,2,3]\n",
    "permute(nums)\n"
   ]
  },
  {
   "cell_type": "code",
   "execution_count": null,
   "metadata": {},
   "outputs": [],
   "source": []
  }
 ],
 "metadata": {
  "kernelspec": {
   "display_name": "Python 3",
   "language": "python",
   "name": "python3"
  },
  "language_info": {
   "codemirror_mode": {
    "name": "ipython",
    "version": 3
   },
   "file_extension": ".py",
   "mimetype": "text/x-python",
   "name": "python",
   "nbconvert_exporter": "python",
   "pygments_lexer": "ipython3",
   "version": "3.12.4"
  }
 },
 "nbformat": 4,
 "nbformat_minor": 2
}

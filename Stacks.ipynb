{
 "cells": [
  {
   "cell_type": "markdown",
   "metadata": {
    "vscode": {
     "languageId": "plaintext"
    }
   },
   "source": [
    "### Rules about Monotoinic Stacks\n",
    "- Monotonic Stacks always include the current index -- thus enumerate\n",
    "- Monotonic stacks have indices and not element\n",
    "- Monotonic increasing/decreasing stack will have min/max so far at the first element\n",
    "Extra Thinking\n",
    "\n",
    "If you are unsure if a monotonic stack can work -- try monotonically inc/dec as input -- it will be clear"
   ]
  },
  {
   "cell_type": "code",
   "execution_count": 2,
   "metadata": {},
   "outputs": [
    {
     "data": {
      "text/plain": [
       "[1, 1, 4, 2, 1, 1, 0, 0]"
      ]
     },
     "execution_count": 2,
     "metadata": {},
     "output_type": "execute_result"
    }
   ],
   "source": [
    "# https://leetcode.com/problems/daily-temperatures/\n",
    "\n",
    "def dailyTemperatures(temperatures):\n",
    "    n = len(temperatures)\n",
    "    ans = [0] * n\n",
    "    stack = []\n",
    "    for i in range(n):\n",
    "        while stack and temperatures[stack[-1]] < temperatures[i] :\n",
    "            idx = stack.pop(-1)\n",
    "            ans[idx] = i - idx\n",
    "        stack.append(i)\n",
    "    return ans\n",
    "\n",
    "temperatures = [73,74,75,71,69,72,76,73]\n",
    "\n",
    "dailyTemperatures(temperatures)"
   ]
  },
  {
   "cell_type": "code",
   "execution_count": null,
   "metadata": {},
   "outputs": [],
   "source": []
  }
 ],
 "metadata": {
  "kernelspec": {
   "display_name": "Python 3",
   "language": "python",
   "name": "python3"
  },
  "language_info": {
   "codemirror_mode": {
    "name": "ipython",
    "version": 3
   },
   "file_extension": ".py",
   "mimetype": "text/x-python",
   "name": "python",
   "nbconvert_exporter": "python",
   "pygments_lexer": "ipython3",
   "version": "3.12.4"
  }
 },
 "nbformat": 4,
 "nbformat_minor": 2
}

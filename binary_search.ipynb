{
 "cells": [
  {
   "cell_type": "code",
   "execution_count": 5,
   "metadata": {},
   "outputs": [],
   "source": [
    "from typing import List "
   ]
  },
  {
   "cell_type": "code",
   "execution_count": 6,
   "metadata": {},
   "outputs": [],
   "source": [
    "# https://leetcode.com/problems/find-minimum-in-rotated-sorted-array/description/\n",
    "\n",
    "#always go to the scope of the array where the new sub array's left element is greater than the right element\n",
    "# First think in your head where and when would we find the answer in binary search\n",
    "# In this case if the mid element is greater than it's right element the  right would be the answer example : [2,3,1],\n",
    "# if the mid element is less than the left element the left would be the answer example : [2,0,1]\n",
    "\n",
    "def findMin(self, nums: List[int]) -> int:\n",
    "    left = 0\n",
    "    right = len(nums) - 1\n",
    "    if len(nums) == 1 : return nums[0]\n",
    "    while left < right:\n",
    "        # print(f\"left : {left}, right : {right}\")\n",
    "        mid = (left + right)//2\n",
    "        # print(f\"mid : {mid}\")\n",
    "        if nums[mid]>nums[mid + 1]:\n",
    "            return  nums[mid+1]\n",
    "        elif nums[mid]< nums[mid-1]:\n",
    "            return nums[mid]\n",
    "        elif nums[mid+1]> nums[right]:\n",
    "            left = mid + 1\n",
    "        else : right = mid - 1\n",
    "    return nums[0]     "
   ]
  },
  {
   "cell_type": "code",
   "execution_count": 8,
   "metadata": {},
   "outputs": [
    {
     "data": {
      "text/plain": [
       "0"
      ]
     },
     "execution_count": 8,
     "metadata": {},
     "output_type": "execute_result"
    }
   ],
   "source": [
    "(0)//2"
   ]
  },
  {
   "cell_type": "code",
   "execution_count": 7,
   "metadata": {},
   "outputs": [
    {
     "data": {
      "text/plain": [
       "-inf"
      ]
     },
     "execution_count": 7,
     "metadata": {},
     "output_type": "execute_result"
    }
   ],
   "source": [
    "float(\"-inf\")"
   ]
  },
  {
   "cell_type": "code",
   "execution_count": null,
   "metadata": {},
   "outputs": [],
   "source": [
    "# https://leetcode.com/problems/find-peak-element/\n",
    "\n",
    "def findPeakElement(self, nums: List[int]) -> int:\n",
    "    left = 0\n",
    "    right = len(nums) -1\n",
    "    while left <= right : \n",
    "        mid = (left + right) // 2\n",
    "        lmid = nums[mid -1] if mid !=0 else float(\"-inf\") # handling the left of mid if mid == 0 \n",
    "        rmid = nums[mid + 1] if mid != len(nums) -1 else float(\"-inf\") # handling the right of mid if mid == n - 1\n",
    "        if lmid < nums[mid] > rmid:\n",
    "            return mid\n",
    "        elif lmid < nums[mid] < rmid:\n",
    "            left = mid + 1\n",
    "        else : right= mid -1\n",
    "\n",
    "    return -1"
   ]
  },
  {
   "cell_type": "code",
   "execution_count": null,
   "metadata": {},
   "outputs": [],
   "source": [
    "# There are two ways we can solve this problem \n",
    "#     1. flattening the 2D array to 1D array and do a normal binary search which would be an O(n) operation\n",
    "#     2. Inplace, Binary search which is a O(log n) Operation\n",
    "#         1. finding the mid element in 2D array hack : row = index //n (you just divide by number or columns or values in each list to get which row we are at)\n",
    "#             and column =  index % n , (here the remainder gives us the position in the row we are at) \n",
    "\n",
    "def searchMatrix(self, matrix: List[List[int]], target: int) -> bool:\n",
    "    nums = [ele for lst in matrix for ele in lst]\n",
    "    left = 0\n",
    "    right = len(nums) -1\n",
    "    while left <= right:\n",
    "        mid = (left + right)//2\n",
    "        if nums[mid] == target : \n",
    "            return True\n",
    "        elif nums[mid] < target : \n",
    "            left = mid + 1\n",
    "        else : right = mid -1\n",
    "    return False\n",
    "\n",
    "def searchMatrix(self, matrix: List[List[int]], target: int) -> bool:\n",
    "    left = 0\n",
    "    n =len(matrix[0])\n",
    "    m = len(matrix)\n",
    "    right = (m*n) - 1\n",
    "\n",
    "    while left <= right :\n",
    "        mid_index =  (left + right)//2\n",
    "        mid = matrix[mid_index // n][mid_index % n]\n",
    "        if mid == target :\n",
    "            return True\n",
    "        elif target < mid :\n",
    "            right = mid_index -1 \n",
    "        else :\n",
    "            left = mid_index + 1\n",
    "    return False  "
   ]
  }
 ],
 "metadata": {
  "kernelspec": {
   "display_name": "my-venv",
   "language": "python",
   "name": "python3"
  },
  "language_info": {
   "codemirror_mode": {
    "name": "ipython",
    "version": 3
   },
   "file_extension": ".py",
   "mimetype": "text/x-python",
   "name": "python",
   "nbconvert_exporter": "python",
   "pygments_lexer": "ipython3",
   "version": "3.12.3"
  }
 },
 "nbformat": 4,
 "nbformat_minor": 2
}

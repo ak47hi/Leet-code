{
 "cells": [
  {
   "cell_type": "code",
   "execution_count": 5,
   "metadata": {},
   "outputs": [],
   "source": [
    "from typing import List "
   ]
  },
  {
   "cell_type": "code",
   "execution_count": 6,
   "metadata": {},
   "outputs": [],
   "source": [
    "# https://leetcode.com/problems/find-minimum-in-rotated-sorted-array/description/\n",
    "\n",
    "#always go to the scope of the array where the new sub array's left element is greater than the right element\n",
    "# First think in your head where and when would we find the answer in binary search\n",
    "# In this case if the mid element is greater than it's right element the  right would be the answer example : [2,3,1],\n",
    "# if the mid element is less than the left element the left would be the answer example : [2,0,1]\n",
    "\n",
    "def findMin(self, nums: List[int]) -> int:\n",
    "    left = 0\n",
    "    right = len(nums) - 1\n",
    "    if len(nums) == 1 : return nums[0]\n",
    "    while left < right:\n",
    "        # print(f\"left : {left}, right : {right}\")\n",
    "        mid = (left + right)//2\n",
    "        # print(f\"mid : {mid}\")\n",
    "        if nums[mid]>nums[mid + 1]:\n",
    "            return  nums[mid+1]\n",
    "        elif nums[mid]< nums[mid-1]:\n",
    "            return nums[mid]\n",
    "        elif nums[mid+1]> nums[right]:\n",
    "            left = mid + 1\n",
    "        else : right = mid - 1\n",
    "    return nums[0]     "
   ]
  },
  {
   "cell_type": "code",
   "execution_count": 8,
   "metadata": {},
   "outputs": [
    {
     "data": {
      "text/plain": [
       "0"
      ]
     },
     "execution_count": 8,
     "metadata": {},
     "output_type": "execute_result"
    }
   ],
   "source": [
    "# https://leetcode.com/problems/cutting-ribbons/description/\n",
    "\n",
    "\n",
    "def maxLength(ribbons: List[int], k: int) -> int:\n",
    "    total = sum(ribbons)\n",
    "    if k > total:\n",
    "        return 0\n",
    "    l,r = 1, max(ribbons)        \n",
    "    while l<=r:\n",
    "        mid = (l + r)//2\n",
    "        cuts = sum([ribbon//mid for ribbon in ribbons])\n",
    "        # if cuts == k:\n",
    "        #     return mid\n",
    "        # for cases like[100,100,100,1] and k = 3 first mid == k match will occur at mid == 75\n",
    "        # but the max is 100, this means we go towards right\n",
    "        if cuts >= k: \n",
    "            l = mid + 1\n",
    "        else :\n",
    "            r = mid - 1\n",
    "    print(l,r)\n",
    "    return r # we return r as the condition l<=r fails as the last update would be made to l "
   ]
  },
  {
   "cell_type": "code",
   "execution_count": 7,
   "metadata": {},
   "outputs": [
    {
     "data": {
      "text/plain": [
       "-inf"
      ]
     },
     "execution_count": 7,
     "metadata": {},
     "output_type": "execute_result"
    }
   ],
   "source": [
    "# 2D BINARY SEARCH\n",
    "\n",
    "\n",
    "# https://leetcode.com/problems/search-a-2d-matrix/description/\n",
    "def searchMatrix(matrix: List[List[int]], target: int) -> bool:\n",
    "    m = len(matrix)\n",
    "    n = len(matrix[0])\n",
    "    l,r = 0, m * n - 1\n",
    "    while l<= r:\n",
    "        mid = (l+r) // 2 \n",
    "        print(mid, m, n)\n",
    "        mid_ele = matrix[mid//n][mid%n] #TRICK IS TO INT DIV WITH N TO GET ROW AND REMAINDER WITH N TO GET COL\n",
    "        if target == mid_ele:\n",
    "            return True\n",
    "        elif target < mid_ele:\n",
    "            r = mid -1\n",
    "        else :\n",
    "            l = mid + 1\n",
    "    return False"
   ]
  },
  {
   "cell_type": "code",
   "execution_count": null,
   "metadata": {},
   "outputs": [],
   "source": [
    "# https://leetcode.com/problems/find-peak-element/\n",
    "\n",
    "def findPeakElement(self, nums: List[int]) -> int:\n",
    "    left = 0\n",
    "    right = len(nums) -1\n",
    "    while left <= right : \n",
    "        mid = (left + right) // 2\n",
    "        lmid = nums[mid - 1] if mid !=0 else float(\"-inf\") # handling the left of mid if mid == 0 \n",
    "        rmid = nums[mid + 1] if mid != len(nums) -1 else float(\"-inf\") # handling the right of mid if mid == n - 1\n",
    "        if lmid < nums[mid] > rmid:\n",
    "            return mid\n",
    "        elif lmid < nums[mid] < rmid:\n",
    "            left = mid + 1\n",
    "        else : right= mid -1\n",
    "\n",
    "    return -1"
   ]
  },
  {
   "cell_type": "code",
   "execution_count": null,
   "metadata": {},
   "outputs": [],
   "source": [
    "# There are two ways we can solve this problem \n",
    "#     1. flattening the 2D array to 1D array and do a normal binary search which would be an O(n) operation\n",
    "#     2. Inplace, Binary search which is a O(log n) Operation\n",
    "#         1. finding the mid element in 2D array hack : row = index //n (you just divide by number or columns or values in each list to get which row we are at)\n",
    "#             and column =  index % n , (here the remainder gives us the position in the row we are at) \n",
    "\n",
    "def searchMatrix(self, matrix: List[List[int]], target: int) -> bool:\n",
    "    nums = [ele for lst in matrix for ele in lst]\n",
    "    left = 0\n",
    "    right = len(nums) -1\n",
    "    while left <= right:\n",
    "        mid = (left + right)//2\n",
    "        if nums[mid] == target : \n",
    "            return True\n",
    "        elif nums[mid] < target : \n",
    "            left = mid + 1\n",
    "        else : right = mid -1\n",
    "    return False\n",
    "\n",
    "def searchMatrix(self, matrix: List[List[int]], target: int) -> bool:\n",
    "    left = 0\n",
    "    n =len(matrix[0])\n",
    "    m = len(matrix)\n",
    "    right = (m*n) - 1\n",
    "\n",
    "    while left <= right :\n",
    "        mid_index =  (left + right)//2\n",
    "        mid = matrix[mid_index // n][mid_index % n]\n",
    "        if mid == target :\n",
    "            return True\n",
    "        elif target < mid :\n",
    "            right = mid_index -1 \n",
    "        else :\n",
    "            left = mid_index + 1\n",
    "    return False  "
   ]
  },
  {
   "cell_type": "code",
   "execution_count": 34,
   "metadata": {},
   "outputs": [
    {
     "name": "stdout",
     "output_type": "stream",
     "text": [
      "[[inf, inf, 'L'], [inf, inf, inf], ['L', inf, inf]]\n",
      "[[0, inf, 'L'], [inf, inf, inf], ['L', inf, 0]] deque([(0, 0), (2, 2)])\n",
      "[[0, inf, 'L'], [inf, inf, inf], ['L', inf, 0]] (0, 0)\n",
      "[[0, inf, 'L'], [1, inf, inf], ['L', inf, 0]]\n",
      "[[0, 1, 'L'], [1, inf, inf], ['L', inf, 0]]\n",
      "[[0, 1, 'L'], [1, inf, inf], ['L', inf, 0]] (2, 2)\n",
      "[[0, 1, 'L'], [1, inf, 1], ['L', inf, 0]]\n",
      "[[0, 1, 'L'], [1, inf, 1], ['L', 1, 0]]\n",
      "[[0, 1, 'L'], [1, inf, 1], ['L', 1, 0]] (1, 0)\n",
      "[[0, 1, 'L'], [1, 2, 1], ['L', 1, 0]]\n",
      "[[0, 1, 'L'], [1, 2, 1], ['L', 1, 0]] (0, 1)\n",
      "[[0, 1, 'L'], [1, 2, 1], ['L', 1, 0]] (1, 2)\n",
      "[[0, 1, 'L'], [1, 2, 1], ['L', 1, 0]] (2, 1)\n",
      "[[0, 1, 'L'], [1, 2, 1], ['L', 1, 0]] (1, 1)\n",
      "[0, 1, 'L']\n",
      "[1, 2, 1]\n",
      "['L', 1, 0]\n"
     ]
    }
   ],
   "source": [
    "from collections import deque\n",
    "\n",
    "def fill_distances(matrix):\n",
    "    \"\"\"\n",
    "    Fills the matrix with the distance to the nearest 'P'.\n",
    "\n",
    "    Parameters:\n",
    "        matrix (list of list of str): m x n matrix with 'P' (person), 'L' (locked office), or empty cells.\n",
    "\n",
    "    Returns:\n",
    "        list of list of int: Matrix with distances filled, or unchanged for locked cells ('L').\n",
    "    \"\"\"\n",
    "    rows, cols = len(matrix), len(matrix[0])\n",
    "    # Initialize distances with infinity or keep 'L' as is\n",
    "    distances = [[float('inf') if matrix[r][c] != 'L' else 'L' for c in range(cols)] for r in range(rows)]\n",
    "    queue = deque()\n",
    "    print(distances)\n",
    "\n",
    "    # Add all 'P' positions to the queue with a distance of 0\n",
    "    for r in range(rows):\n",
    "        for c in range(cols):\n",
    "            if matrix[r][c] == 'P':\n",
    "                distances[r][c] = 0\n",
    "                queue.append((r, c))\n",
    "    print(distances, queue)\n",
    "    # Directions for moving in the matrix\n",
    "    directions = [(-1, 0), (1, 0), (0, -1), (0, 1)]\n",
    "\n",
    "    # Perform BFS\n",
    "    while queue:\n",
    "        r, c = queue.popleft()\n",
    "        print(distances, (r,c))\n",
    "        for dr, dc in directions:\n",
    "            nr, nc = r + dr, c + dc\n",
    "            # Check if the neighbor is within bounds and not yet visited\n",
    "            if 0 <= nr < rows and 0 <= nc < cols and distances[nr][nc] == float('inf'):\n",
    "                # Update distance and add to the queue\n",
    "                distances[nr][nc] = distances[r][c] + 1\n",
    "                print(distances)\n",
    "                queue.append((nr, nc))\n",
    "    \n",
    "    return distances\n",
    "\n",
    "# Example usage\n",
    "matrix = [\n",
    "    [\"P\", \"\", \"L\"],\n",
    "    [\"\", \"\", \"\"],\n",
    "    [\"L\", \"\", \"P\"],\n",
    "]\n",
    "\n",
    "result = fill_distances(matrix)\n",
    "for row in result:\n",
    "    print(row)\n",
    "# Output:\n",
    "# [0, 1, 'L']\n",
    "# [1, 2, 1]\n",
    "# ['L', 1, 0]\n"
   ]
  },
  {
   "cell_type": "code",
   "execution_count": 36,
   "metadata": {},
   "outputs": [
    {
     "name": "stdout",
     "output_type": "stream",
     "text": [
      "3\n",
      "20 9\n",
      "15 7\n",
      "None\n"
     ]
    }
   ],
   "source": [
    "from collections import deque\n",
    "\n",
    "class TreeNode:\n",
    "    def __init__(self, val=0, left=None, right=None):\n",
    "        self.val = val\n",
    "        self.left = left\n",
    "        self.right = right\n",
    "\n",
    "def zigzagLevelOrder(root):\n",
    "    if not root:\n",
    "        return []  # If the tree is empty, return an empty list\n",
    "\n",
    "    # result = []  # Final result list\n",
    "    queue = deque([root])  # Queue to hold nodes for BFS\n",
    "    left_to_right = True  # Flag to control the zigzag direction\n",
    "\n",
    "    while queue:\n",
    "        level_size = len(queue)\n",
    "        current_level = deque()  # Temporary deque for the current level\n",
    "\n",
    "        for _ in range(level_size):\n",
    "            node = queue.popleft()  # Get the front node\n",
    "\n",
    "            # Append values based on the current direction\n",
    "            if left_to_right:\n",
    "                current_level.append(node.val)  # Add to the right\n",
    "            else:\n",
    "                current_level.appendleft(node.val)  # Add to the left\n",
    "\n",
    "            # Add the children of the current node to the queue\n",
    "            if node.left:\n",
    "                queue.append(node.left)\n",
    "            if node.right:\n",
    "                queue.append(node.right)\n",
    "\n",
    "        # Add the current level to the result and toggle the direction\n",
    "        print(' '.join([str(ele) for ele in list(current_level)])) #  print(\"/n current level\")\n",
    "        left_to_right = not left_to_right  # Toggle the zigzag direction\n",
    "\n",
    "    return \n",
    "\n",
    "# Example usage\n",
    "root = TreeNode(3)\n",
    "root.left = TreeNode(9)\n",
    "root.right = TreeNode(20)\n",
    "root.right.left = TreeNode(15)\n",
    "root.right.right = TreeNode(7)\n",
    "\n",
    "print(zigzagLevelOrder(root))\n",
    "# Output: [[3], [20, 9], [15, 7]]"
   ]
  },
  {
   "cell_type": "code",
   "execution_count": 56,
   "metadata": {},
   "outputs": [],
   "source": [
    "class TreeNode:\n",
    "    def __init__(self, val = 0, left = None, right = None):\n",
    "        self.left = left\n",
    "        self.right = right\n",
    "        self.val = val\n",
    "    \n",
    "root = TreeNode(100)\n",
    "root.left = TreeNode(50)\n",
    "root.right = TreeNode(150)\n",
    "root.right.left = TreeNode(125)\n",
    "root.right.right = TreeNode(175)\n",
    "root.left.left = TreeNode(25)\n",
    "root.left.right = TreeNode(75)\n"
   ]
  },
  {
   "cell_type": "code",
   "execution_count": 63,
   "metadata": {},
   "outputs": [
    {
     "name": "stdout",
     "output_type": "stream",
     "text": [
      " 100\n",
      " 50 150\n",
      " 25 75 125 175\n"
     ]
    }
   ],
   "source": [
    "from collections import deque\n",
    "def zigzagOrder(root):\n",
    "    queue  = deque([root])\n",
    "    if not root : \n",
    "        print('empty Tree')\n",
    "    \n",
    "    while queue : \n",
    "        q_len = len(queue)\n",
    "\n",
    "        for _ in range(q_len):\n",
    "\n",
    "            node = queue.popleft()\n",
    "            print(f\"                                           {node.val}\", end =  \"\")\n",
    "            if node.left : \n",
    "                queue.append(node.left)\n",
    "            if node.right : \n",
    "                queue.append(node.right)\n",
    "        print()\n",
    "    return \n",
    "\n",
    "zigzagOrder(root)\n",
    "        "
   ]
  }
 ],
 "metadata": {
  "kernelspec": {
   "display_name": "my-venv",
   "language": "python",
   "name": "python3"
  },
  "language_info": {
   "codemirror_mode": {
    "name": "ipython",
    "version": 3
   },
   "file_extension": ".py",
   "mimetype": "text/x-python",
   "name": "python",
   "nbconvert_exporter": "python",
   "pygments_lexer": "ipython3",
   "version": "3.12.4"
  }
 },
 "nbformat": 4,
 "nbformat_minor": 2
}

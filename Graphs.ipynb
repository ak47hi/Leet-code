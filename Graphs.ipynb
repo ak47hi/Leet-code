{
 "cells": [
  {
   "cell_type": "code",
   "execution_count": 1,
   "metadata": {},
   "outputs": [
    {
     "ename": "ValueError",
     "evalue": "not enough values to unpack (expected 2, got 0)",
     "output_type": "error",
     "traceback": [
      "\u001b[1;31m---------------------------------------------------------------------------\u001b[0m",
      "\u001b[1;31mValueError\u001b[0m                                Traceback (most recent call last)",
      "\u001b[1;32m~\\AppData\\Local\\Temp/ipykernel_46336/3966573056.py\u001b[0m in \u001b[0;36m<module>\u001b[1;34m\u001b[0m\n\u001b[1;32m----> 1\u001b[1;33m \u001b[0mn\u001b[0m\u001b[1;33m,\u001b[0m \u001b[0mm\u001b[0m \u001b[1;33m=\u001b[0m \u001b[0mmap\u001b[0m\u001b[1;33m(\u001b[0m\u001b[0mint\u001b[0m\u001b[1;33m,\u001b[0m\u001b[0minput\u001b[0m\u001b[1;33m(\u001b[0m\u001b[1;34m\"enter the values for n(number of vertices) and m(number of edges)\"\u001b[0m\u001b[1;33m)\u001b[0m\u001b[1;33m.\u001b[0m\u001b[0msplit\u001b[0m\u001b[1;33m(\u001b[0m\u001b[1;33m)\u001b[0m\u001b[1;33m)\u001b[0m\u001b[1;33m\u001b[0m\u001b[1;33m\u001b[0m\u001b[0m\n\u001b[0m\u001b[0;32m      2\u001b[0m \u001b[0medges_list\u001b[0m \u001b[1;33m=\u001b[0m \u001b[1;33m[\u001b[0m\u001b[1;33m]\u001b[0m\u001b[1;33m\u001b[0m\u001b[1;33m\u001b[0m\u001b[0m\n\u001b[0;32m      3\u001b[0m \u001b[0mgraph\u001b[0m \u001b[1;33m=\u001b[0m \u001b[1;33m{\u001b[0m\u001b[1;33m}\u001b[0m\u001b[1;33m\u001b[0m\u001b[1;33m\u001b[0m\u001b[0m\n\u001b[0;32m      4\u001b[0m \u001b[1;33m\u001b[0m\u001b[0m\n\u001b[0;32m      5\u001b[0m \u001b[1;32mfor\u001b[0m \u001b[0mindex\u001b[0m \u001b[1;32min\u001b[0m \u001b[0mrange\u001b[0m\u001b[1;33m(\u001b[0m\u001b[1;36m1\u001b[0m\u001b[1;33m,\u001b[0m\u001b[0mn\u001b[0m\u001b[1;33m+\u001b[0m\u001b[1;36m1\u001b[0m\u001b[1;33m)\u001b[0m\u001b[1;33m:\u001b[0m\u001b[1;33m\u001b[0m\u001b[1;33m\u001b[0m\u001b[0m\n",
      "\u001b[1;31mValueError\u001b[0m: not enough values to unpack (expected 2, got 0)"
     ]
    }
   ],
   "source": [
    "n, m = map(int,input(\"enter the values for n(number of vertices) and m(number of edges)\").split())\n",
    "edges_list = []\n",
    "graph = {}\n",
    "\n",
    "for index in range(1,n+1):\n",
    "    edges_list.append(index)\n",
    "for i in range(1,m+1):\n",
    "    temp1 = []\n",
    "    temp2 = []\n",
    "    u,v = map(int,input(\"enter the edges \").split())\n",
    "\n",
    "    if u not in graph and v not in graph:\n",
    "        temp1.append(v)\n",
    "        graph[u] = temp1\n",
    "        temp2.append(u)\n",
    "        graph[v] = temp2\n",
    "\n",
    "    elif u in graph and v not in graph:\n",
    "        temp1.extend(graph[u])\n",
    "        temp1.append(v)\n",
    "        graph[u] = temp1\n",
    "        temp2.append(u)\n",
    "        graph[v] = temp2\n",
    "\n",
    "    elif v in graph and u not in graph:    \n",
    "        temp1.extend(graph[v])\n",
    "        temp1.append(u)\n",
    "        graph[v] = temp1\n",
    "        temp2.append(v)\n",
    "        graph[u] = temp2\n",
    "\n",
    "    elif u in graph and v in graph:\n",
    "        temp1.extend(graph[u])\n",
    "        temp1.append(v)\n",
    "        graph[u] = temp1        \n",
    "        temp2.extend(graph[v])\n",
    "        temp2.append(u)\n",
    "        graph[v] = temp2\n",
    "\n",
    "for i in edges_list:\n",
    "    if i not in graph:\n",
    "        graph[i] = []\n",
    "print(edges_list)\n",
    "print(graph)"
   ]
  },
  {
   "cell_type": "code",
   "execution_count": null,
   "metadata": {},
   "outputs": [],
   "source": []
  },
  {
   "cell_type": "code",
   "execution_count": 194,
   "metadata": {},
   "outputs": [
    {
     "name": "stdout",
     "output_type": "stream",
     "text": [
      "[[1, 4, 3, 5, 7, 6], [2, 8, 9, 10]]\n",
      "2\n",
      "6\n"
     ]
    }
   ],
   "source": [
    "# n, m = map(int, input().split())\n",
    "# edges_list = []\n",
    "# for i in range(1, m+1):\n",
    "#     edges_list.append(list(map(int, input().split())))\n",
    "\n",
    "# adj_list = []\n",
    "# graph = {}\n",
    "# vis = set()\n",
    "\n",
    "# for index in range(1, n+1):\n",
    "#     graph[index] = None\n",
    "\n",
    "# for key, val in graph.items():\n",
    "#     temp = []\n",
    "#     for i in range(0, len(edges_list)):\n",
    "#         for j in range(0, len(edges_list[i])):\n",
    "#             if edges_list[i][j] != key and key in edges_list[i]:\n",
    "#                 temp.append(edges_list[i][j])\n",
    "#     graph[key] = temp\n",
    "\n",
    "# # print(graph)\n",
    "\n",
    "vis = []\n",
    "def dfs(vis, graph, node):\n",
    "    if node not in vis:\n",
    "        vis.append(node)\n",
    "        for adj_node in graph[node]:\n",
    "            dfs(vis, graph, adj_node)\n",
    "    return vis\n",
    "\n",
    "\n",
    "con_comp = []\n",
    "con_comp_set = []\n",
    "\n",
    "for key in graph.keys():\n",
    "    vis = []\n",
    "    if not con_comp:\n",
    "        con_comp.append(dfs(vis, graph, key))\n",
    "        # print(con_comp,\"first\")\n",
    "        x = [*con_comp[0]]\n",
    "    else :\n",
    "        if key not in x:\n",
    "            y = dfs(vis, graph, key)\n",
    "            x.extend(y)\n",
    "            con_comp.append(y)\n",
    "\n",
    "print(con_comp)\n",
    "    # if key not in x:\n",
    "    #     con_comp.append(sorted(dfs(vis, graph, key)))\n",
    "\n",
    "# [con_comp_set.append(i) for i in con_comp if i not in con_comp_set]\n",
    "\n",
    "\n",
    "print(len(con_comp))\n",
    "print(max([len(z) for z in con_comp]))"
   ]
  },
  {
   "cell_type": "code",
   "execution_count": 208,
   "metadata": {},
   "outputs": [
    {
     "name": "stdout",
     "output_type": "stream",
     "text": [
      "1 4 5 6 7 3 2 8 9 10 "
     ]
    }
   ],
   "source": [
    "visited = [] # List for visited nodes.\n",
    "queue = []     #Initialize a queue\n",
    "\n",
    "def bfs(visited, graph, node): #function for BFS\n",
    "  visited.append(node)\n",
    "  queue.append(node)\n",
    "\n",
    "  while queue:          # Creating loop to visit each node\n",
    "    m = queue.pop(0) \n",
    "    print (m, end = \" \") \n",
    "\n",
    "    if m in graph:\n",
    "        for neighbour in graph[m]:\n",
    "            if neighbour not in visited:\n",
    "                visited.append(neighbour)\n",
    "                queue.append(neighbour)\n",
    "\n",
    "print(queue)\n",
    "for i in range(1,n+1):\n",
    "    if i not in visited:\n",
    "        bfs(visited, graph, i)"
   ]
  },
  {
   "cell_type": "code",
   "execution_count": 206,
   "metadata": {},
   "outputs": [
    {
     "name": "stdout",
     "output_type": "stream",
     "text": [
      "1 4 5 6 7 3 [1, 4, 5, 6, 7, 3]\n",
      "[1, 4, 3, 5, 7, 6]\n"
     ]
    }
   ],
   "source": [
    "visited = [] # List for visited nodes.\n",
    "queue = []     #Initialize a queue\n",
    "\n",
    "def bfs(visited, graph, node): #function for BFS\n",
    "  visited.append(node)\n",
    "  queue.append(node)\n",
    "\n",
    "  while queue:          # Creating loop to visit each node\n",
    "    m = queue.pop(0) \n",
    "    print (m, end = \" \") \n",
    "\n",
    "    if m in graph:\n",
    "        for neighbour in graph[m]:\n",
    "            if neighbour not in visited:\n",
    "                visited.append(neighbour)\n",
    "                queue.append(neighbour)\n",
    "bfs(visited, graph, 1)\n",
    "print(visited)\n",
    "visited = []\n",
    "dfs(visited, graph, 1)\n",
    "\n",
    "print(visited)\n",
    "# con_comp = []\n",
    "# con_comp_set = []\n",
    "\n",
    "# for key in graph.keys():\n",
    "#     visited = []\n",
    "#     if not con_comp:\n",
    "#         con_comp.append(bfs(visited, graph, key))\n",
    "#         x = [*con_comp[0]]\n",
    "#     else:\n",
    "#         if key not in x:\n",
    "#             y = bfs(visited, graph, key)\n",
    "#             x.extend(y)\n",
    "#             con_comp.append(y)\n",
    "\n",
    "# print(visited)\n",
    "# # prints the numuber of components in the graph\n",
    "# print(len(con_comp))\n",
    "# # max number of elements in a component\n",
    "# print(max([len(z) for z in con_comp]))\n"
   ]
  },
  {
   "cell_type": "code",
   "execution_count": 133,
   "metadata": {},
   "outputs": [
    {
     "name": "stdout",
     "output_type": "stream",
     "text": [
      "2\n",
      "3\n"
     ]
    }
   ],
   "source": [
    "# adj_list = []\n",
    "# graph = {}\n",
    "vis = []\n",
    "\n",
    "# for index in range(1,n+1):\n",
    "#     graph[index] = None\n",
    "\n",
    "# for key, val in graph.items():\n",
    "#     temp = []\n",
    "#     for i in range(0,len(edges_list)):\n",
    "#         for j in range(0,len(edges_list[i])):\n",
    "#             if edges_list[i][j] != key and key in edges_list[i] :\n",
    "#                 temp.append(edges_list[i][j])\n",
    "#     graph[key] = temp\n",
    "        \n",
    "# print(graph)\n",
    "\n",
    "def dfs(vis, graph, node):\n",
    "    if node not in vis:\n",
    "        vis.append(node)\n",
    "        for adj_node in graph[node]:\n",
    "\n",
    "            dfs(vis, graph, adj_node)\n",
    "    return vis\n",
    "\n",
    "con_comp = []\n",
    "for key in graph.keys():\n",
    "    vis = []\n",
    "    con_comp.append(dfs(vis, graph, key))\n",
    "# print(con_comp)\n",
    "con_comp_set = []\n",
    "con_comp_set1 = []\n",
    "for i in range(0,len(con_comp)):\n",
    "    con_comp_set.append(sorted(con_comp[i]))\n",
    "\n",
    "\n",
    "\n",
    "# print(con_comp_set)\n",
    "for i in con_comp_set:\n",
    "    if i not in con_comp_set1:\n",
    "        con_comp_set1.append(i)\n",
    "\n",
    "print(len(con_comp_set1))\n",
    "print(max([len(x) for x in con_comp_set1]))"
   ]
  },
  {
   "cell_type": "code",
   "execution_count": 125,
   "metadata": {},
   "outputs": [
    {
     "data": {
      "text/plain": [
       "True"
      ]
     },
     "execution_count": 125,
     "metadata": {},
     "output_type": "execute_result"
    }
   ],
   "source": [
    "a = [[1 ,2],[3,4]]\n",
    "b = [1,2]\n",
    "b in a"
   ]
  },
  {
   "cell_type": "code",
   "execution_count": 135,
   "metadata": {},
   "outputs": [
    {
     "data": {
      "text/plain": [
       "False"
      ]
     },
     "execution_count": 135,
     "metadata": {},
     "output_type": "execute_result"
    }
   ],
   "source": [
    "a = [2]\n",
    "not a"
   ]
  },
  {
   "cell_type": "code",
   "execution_count": 8,
   "metadata": {},
   "outputs": [
    {
     "name": "stdout",
     "output_type": "stream",
     "text": [
      "[[1, 2], [3, 4], [5, 6], [1, 7], [7, 8], [2, 7], [2, 8]]\n",
      "n = 8\n",
      "m = 7\n"
     ]
    }
   ],
   "source": [
    "print(edges_list)\n",
    "print(f\"n = {n}\")\n",
    "print(f\"m = {m}\")"
   ]
  },
  {
   "cell_type": "code",
   "execution_count": 64,
   "metadata": {},
   "outputs": [
    {
     "name": "stdout",
     "output_type": "stream",
     "text": [
      "{1: [2, 3], 2: [1, 3], 3: [2, 1], 4: []}\n",
      "[{1, 2, 3}, {4}]\n",
      "2\n",
      "3\n"
     ]
    }
   ],
   "source": [
    "adj_list = []\n",
    "graph = {}\n",
    "vis = set()\n",
    "\n",
    "for index in range(1,n+1):\n",
    "    graph[index] = None\n",
    "\n",
    "for key, val in graph.items():\n",
    "    temp = []\n",
    "    for i in range(0,len(edges_list)):\n",
    "        for j in range(0,len(edges_list[i])):\n",
    "            if edges_list[i][j] != key and key in edges_list[i] :\n",
    "                temp.append(edges_list[i][j])\n",
    "    graph[key] = temp\n",
    "        \n",
    "print(graph)\n",
    "\n",
    "def dfs(vis, graph, node):\n",
    "    if node not in vis:\n",
    "        vis.add(node)\n",
    "        for adj_node in graph[node]:\n",
    "\n",
    "            dfs(vis, graph, adj_node)\n",
    "    return vis\n",
    "\n",
    "con_comp = []\n",
    "for key in graph.keys():\n",
    "    vis = set()\n",
    "    con_comp.append(dfs(vis, graph, key))\n",
    "\n",
    "con_comp_set = []\n",
    "[con_comp_set.append(i) for i in con_comp if i not in con_comp_set]\n",
    "\n",
    "\n",
    "print(con_comp_set)\n",
    "print(len(con_comp_set))\n",
    "print(max([len(x) for x in con_comp_set]))"
   ]
  },
  {
   "cell_type": "code",
   "execution_count": 19,
   "metadata": {},
   "outputs": [
    {
     "ename": "TypeError",
     "evalue": "unhashable type: 'set'",
     "output_type": "error",
     "traceback": [
      "\u001b[1;31m---------------------------------------------------------------------------\u001b[0m",
      "\u001b[1;31mTypeError\u001b[0m                                 Traceback (most recent call last)",
      "\u001b[1;32m~\\AppData\\Local\\Temp/ipykernel_14820/3540630174.py\u001b[0m in \u001b[0;36m<module>\u001b[1;34m\u001b[0m\n\u001b[0;32m      1\u001b[0m \u001b[0ma\u001b[0m \u001b[1;33m=\u001b[0m \u001b[1;33m{\u001b[0m\u001b[1;36m1\u001b[0m \u001b[1;33m,\u001b[0m \u001b[1;36m2\u001b[0m\u001b[1;33m}\u001b[0m\u001b[1;33m\u001b[0m\u001b[1;33m\u001b[0m\u001b[0m\n\u001b[0;32m      2\u001b[0m \u001b[0mb\u001b[0m \u001b[1;33m=\u001b[0m \u001b[1;33m{\u001b[0m\u001b[1;36m1\u001b[0m\u001b[1;33m,\u001b[0m\u001b[1;36m2\u001b[0m\u001b[1;33m}\u001b[0m\u001b[1;33m\u001b[0m\u001b[1;33m\u001b[0m\u001b[0m\n\u001b[1;32m----> 3\u001b[1;33m \u001b[0mprint\u001b[0m\u001b[1;33m(\u001b[0m\u001b[0mset\u001b[0m\u001b[1;33m(\u001b[0m\u001b[1;33m[\u001b[0m\u001b[0ma\u001b[0m\u001b[1;33m,\u001b[0m\u001b[0mb\u001b[0m\u001b[1;33m]\u001b[0m\u001b[1;33m)\u001b[0m\u001b[1;33m)\u001b[0m\u001b[1;33m\u001b[0m\u001b[1;33m\u001b[0m\u001b[0m\n\u001b[0m",
      "\u001b[1;31mTypeError\u001b[0m: unhashable type: 'set'"
     ]
    }
   ],
   "source": []
  },
  {
   "cell_type": "code",
   "execution_count": 18,
   "metadata": {},
   "outputs": [
    {
     "name": "stdout",
     "output_type": "stream",
     "text": [
      "Vertex 0: -> 0 -> 3 -> 0 -> 2 -> 0 -> 1 \n",
      "\n",
      "Vertex 1: -> 1 -> 2 -> 1 \n",
      "\n",
      "Vertex 2: -> 2 -> 1 \n",
      "\n",
      "Vertex 3: -> 3 -> 0 -> 2 -> 0 -> 1 \n",
      "\n",
      "Vertex 4: \n",
      "\n"
     ]
    },
    {
     "ename": "AttributeError",
     "evalue": "'Graph' object has no attribute 'value'",
     "output_type": "error",
     "traceback": [
      "\u001b[1;31m---------------------------------------------------------------------------\u001b[0m",
      "\u001b[1;31mAttributeError\u001b[0m                            Traceback (most recent call last)",
      "\u001b[1;32m~\\AppData\\Local\\Temp/ipykernel_27936/3504293091.py\u001b[0m in \u001b[0;36m<module>\u001b[1;34m\u001b[0m\n\u001b[0;32m      6\u001b[0m         \u001b[0mself\u001b[0m\u001b[1;33m.\u001b[0m\u001b[0mnext\u001b[0m \u001b[1;33m=\u001b[0m \u001b[1;32mNone\u001b[0m\u001b[1;33m\u001b[0m\u001b[1;33m\u001b[0m\u001b[0m\n\u001b[0;32m      7\u001b[0m \u001b[1;33m\u001b[0m\u001b[0m\n\u001b[1;32m----> 8\u001b[1;33m \u001b[1;32mclass\u001b[0m \u001b[0mGraph\u001b[0m \u001b[1;33m:\u001b[0m\u001b[1;33m\u001b[0m\u001b[1;33m\u001b[0m\u001b[0m\n\u001b[0m\u001b[0;32m      9\u001b[0m     \u001b[1;32mdef\u001b[0m \u001b[0m__init__\u001b[0m\u001b[1;33m(\u001b[0m\u001b[0mself\u001b[0m\u001b[1;33m,\u001b[0m\u001b[0mvalue\u001b[0m\u001b[1;33m)\u001b[0m\u001b[1;33m:\u001b[0m\u001b[1;33m\u001b[0m\u001b[1;33m\u001b[0m\u001b[0m\n\u001b[0;32m     10\u001b[0m         \u001b[0mself\u001b[0m\u001b[1;33m.\u001b[0m\u001b[0mVal\u001b[0m \u001b[1;33m=\u001b[0m \u001b[0mvalue\u001b[0m\u001b[1;33m\u001b[0m\u001b[1;33m\u001b[0m\u001b[0m\n",
      "\u001b[1;32m~\\AppData\\Local\\Temp/ipykernel_27936/3504293091.py\u001b[0m in \u001b[0;36mGraph\u001b[1;34m()\u001b[0m\n\u001b[0;32m     41\u001b[0m \u001b[1;33m\u001b[0m\u001b[0m\n\u001b[0;32m     42\u001b[0m     \u001b[0mgraph\u001b[0m\u001b[1;33m.\u001b[0m\u001b[0mprint_agraph\u001b[0m\u001b[1;33m(\u001b[0m\u001b[1;33m)\u001b[0m\u001b[1;33m\u001b[0m\u001b[1;33m\u001b[0m\u001b[0m\n\u001b[1;32m---> 43\u001b[1;33m     \u001b[0mgraph\u001b[0m\u001b[1;33m.\u001b[0m\u001b[0mvalue\u001b[0m\u001b[1;33m\u001b[0m\u001b[1;33m\u001b[0m\u001b[0m\n\u001b[0m",
      "\u001b[1;31mAttributeError\u001b[0m: 'Graph' object has no attribute 'value'"
     ]
    }
   ],
   "source": [
    "#adjacency list \n",
    "            \n",
    "class Adjacentnode : \n",
    "    def __init__(self,value):\n",
    "        self.vertice = value\n",
    "        self.next = None\n",
    "\n",
    "class Graph : \n",
    "    def __init__(self,value):\n",
    "        self.Val = value \n",
    "        self.graph = [None]* self.Val\n",
    "\n",
    "    def add_edge(self,V1,V2):\n",
    "        node = Adjacentnode(V2)\n",
    "        node.next = self.graph[V1]\n",
    "        self.graph[V2] = node\n",
    "        node = Adjacentnode(V1)\n",
    "        node.next = self.graph[V2]\n",
    "        self.graph[V1] = node\n",
    "    def print_agraph(self):\n",
    "        for i in range(self.Val):\n",
    "            print(\"Vertex \" + str(i) + \":\", end=\"\")\n",
    "            temp = self.graph[i]\n",
    "            while temp:\n",
    "                print(\" -> {}\".format(temp.vertice), end=\"\")\n",
    "                temp = temp.next\n",
    "            print(\" \\n\")\n",
    "\n",
    "\n",
    "    # Print the graph\n",
    "    \n",
    "\n",
    "    V = 5\n",
    "\n",
    "    # Create graph and edges\n",
    "    graph = Graph(V)\n",
    "    graph.add_edge(0, 1)\n",
    "    graph.add_edge(0, 2)\n",
    "    graph.add_edge(0, 3)\n",
    "    graph.add_edge(1, 2)\n",
    "\n",
    "    graph.print_agraph()\n",
    "    graph.value"
   ]
  },
  {
   "cell_type": "code",
   "execution_count": 22,
   "metadata": {},
   "outputs": [
    {
     "name": "stdout",
     "output_type": "stream",
     "text": [
      "Vertex 0: -> 3 -> 2 -> 1 \n",
      "\n",
      "Vertex 1: -> 2 -> 0 \n",
      "\n",
      "Vertex 2: -> 1 -> 0 \n",
      "\n",
      "Vertex 3: -> 0 \n",
      "\n",
      "Vertex 4: \n",
      "\n",
      "<__main__.AdjNode object at 0x00000202955B27C0>\n"
     ]
    }
   ],
   "source": [
    "class AdjNode:\n",
    "    def __init__(self, value):\n",
    "        self.vertex = value\n",
    "        self.next = None\n",
    "\n",
    "\n",
    "class Graph:\n",
    "    def __init__(self, num):\n",
    "        self.V = num\n",
    "        self.graph = [None] * self.V\n",
    "\n",
    "    # Add edges\n",
    "    def add_edge(self, s, d):\n",
    "        node = AdjNode(s)\n",
    "        node.next = self.graph[d]\n",
    "        self.graph[d] = node\n",
    "        \n",
    "        node = AdjNode(d)\n",
    "        node.next = self.graph[s]\n",
    "        self.graph[s] = node\n",
    "\n",
    "\n",
    "\n",
    "    # Print the graph\n",
    "    def print_agraph(self):\n",
    "        for i in range(self.V):\n",
    "            print(\"Vertex \" + str(i) + \":\", end=\"\")\n",
    "            temp = self.graph[i]\n",
    "            while temp:\n",
    "                print(\" -> {}\".format(temp.vertex), end=\"\")\n",
    "                temp = temp.next\n",
    "            print(\" \\n\")\n",
    "\n",
    "    def print_obj(self, index):\n",
    "        print(self.graph[index])\n",
    "\n",
    "if __name__ == \"__main__\":\n",
    "    V = 5\n",
    "\n",
    "    # Create graph and edges\n",
    "    graph = Graph(V)\n",
    "    graph.add_edge(0, 1)\n",
    "    graph.add_edge(0, 2)\n",
    "    graph.add_edge(0, 3)\n",
    "    graph.add_edge(1, 2)\n",
    "\n",
    "    graph.print_agraph()\n",
    "    graph.print_obj(1)"
   ]
  },
  {
   "cell_type": "code",
   "execution_count": 16,
   "metadata": {},
   "outputs": [
    {
     "name": "stdout",
     "output_type": "stream",
     "text": [
      "File one __name__ is set to: __main__\n",
      "File two __name__ is set to: __main__\n"
     ]
    }
   ],
   "source": [
    "# Python file one module\n",
    "\n",
    "print(\"File one __name__ is set to: {}\" .format(__name__))\n"
   ]
  },
  {
   "cell_type": "code",
   "execution_count": 14,
   "metadata": {},
   "outputs": [
    {
     "name": "stdout",
     "output_type": "stream",
     "text": [
      "d\n",
      "a\n",
      "b\n",
      "c\n",
      "e\n"
     ]
    }
   ],
   "source": [
    "# linked list implementation \n",
    "\n",
    "class Linkedlist :\n",
    "    def __init__(self):\n",
    "        self.head = None\n",
    "\n",
    "    def print_ll(self):\n",
    "        node = self.head \n",
    "        while node is not None:\n",
    "            print(f\"{node.Value}\")\n",
    "            node = node.next\n",
    "    \n",
    "    # inserting at the beginning of linked list\n",
    "    def insert_at_beginning(self, first):\n",
    "        first_node = Node(first)\n",
    "        first_node.next = self.head\n",
    "        self.head = first_node\n",
    "    \n",
    "    # inserting at the end of linked list \n",
    "    def insert_at_the_end(self, last):\n",
    "        last_node = Node(last)\n",
    "        llist = self.head\n",
    "        while llist.next  :\n",
    "            llist = llist.next\n",
    "        llist.next = last_node\n",
    "\n",
    "class Node :\n",
    "    def __init__(self,Value = None):\n",
    "        self.Value = Value\n",
    "        self.next = None\n",
    "\n",
    "\n",
    "llist = Linkedlist()\n",
    "llist.head = Node(\"a\")\n",
    "llist.head.next = Node(\"b\")\n",
    "llist.head.next.next = Node(\"c\")\n",
    "llist.insert_at_beginning(\"d\")\n",
    "\n",
    "llist.insert_at_the_end(\"e\")\n",
    "llist.print_ll()\n",
    "\n"
   ]
  },
  {
   "cell_type": "code",
   "execution_count": null,
   "metadata": {},
   "outputs": [],
   "source": [
    "\n"
   ]
  }
 ],
 "metadata": {
  "kernelspec": {
   "display_name": "Python 3.9.9 64-bit",
   "language": "python",
   "name": "python3"
  },
  "language_info": {
   "codemirror_mode": {
    "name": "ipython",
    "version": 3
   },
   "file_extension": ".py",
   "mimetype": "text/x-python",
   "name": "python",
   "nbconvert_exporter": "python",
   "pygments_lexer": "ipython3",
   "version": "3.9.9"
  },
  "orig_nbformat": 4,
  "vscode": {
   "interpreter": {
    "hash": "460bce3d262162d2ee42e8ddf8f65330a0500918e91a65bb3f0ce49c857120e0"
   }
  }
 },
 "nbformat": 4,
 "nbformat_minor": 2
}

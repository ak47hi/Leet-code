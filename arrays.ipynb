{
 "cells": [
  {
   "cell_type": "code",
   "execution_count": 4,
   "metadata": {},
   "outputs": [],
   "source": [
    "from collections import defaultdict\n",
    "from typing import List\n"
   ]
  },
  {
   "cell_type": "markdown",
   "metadata": {},
   "source": [
    "## PREFIX SUM TECHNIQUE\n"
   ]
  },
  {
   "cell_type": "code",
   "execution_count": 8,
   "metadata": {},
   "outputs": [
    {
     "data": {
      "text/plain": [
       "3"
      ]
     },
     "execution_count": 8,
     "metadata": {},
     "output_type": "execute_result"
    }
   ],
   "source": [
    "# https://leetcode.com/problems/subarray-sum-equals-k/\n",
    "\n",
    "def subarraySum(nums: List[int], k: int) -> int:\n",
    "    counter = 0\n",
    "    hash_map = defaultdict(int)\n",
    "    hash_map[0] = 1\n",
    "    runningsum = 0 \n",
    "    for i in range(len(nums)):\n",
    "        runningsum += nums[i] # calculate running sum \n",
    "        diff = runningsum - k # take a diff to check if the diff is an other sub array that equals to target\n",
    "        if diff in hash_map.keys() : \n",
    "            counter += hash_map[runningsum - k]  # calculate the \n",
    "        hash_map[runningsum] += 1\n",
    "    return counter\n",
    "\n",
    "nums = [1,-1, 1, 1, 1, 3] \n",
    "k = 3\n",
    "subarraySum(nums, k)"
   ]
  },
  {
   "cell_type": "code",
   "execution_count": null,
   "metadata": {},
   "outputs": [],
   "source": [
    "def removeDuplicates(nums: List[int]) -> int:\n",
    "    #####Pop-Solution#######\n",
    "    # i = 0 \n",
    "    # j = 1\n",
    "    # while j<len(nums):\n",
    "    #     if nums[i] == nums[j]:\n",
    "    #         nums.pop(j)\n",
    "    #     else:\n",
    "    #         i+= 1\n",
    "    #         j+=1\n",
    "\n",
    "    # return j+1\n",
    "    anchor = 0 \n",
    "    for i in range(1,len(nums)):\n",
    "        if nums[i] != nums[anchor]: \n",
    "            nums[anchor + 1] = nums[i]\n",
    "            anchor += 1\n",
    "    return anchor + 1   "
   ]
  },
  {
   "cell_type": "code",
   "execution_count": 13,
   "metadata": {},
   "outputs": [],
   "source": [
    "tickets = [('s', 'l'), ('l', 'n'), ('o','s')]\n",
    "\n",
    "\n",
    "from collections import defaultdict\n",
    "\n",
    "def findItinerary(tickets):\n",
    "\n",
    "\n",
    "    flights = defaultdict(list)\n",
    "    for start, end in sorted(tickets, reverse=True):\n",
    "        flights[start].append(end)\n",
    "    print(flights)\n",
    "    itinerary = []\n",
    "\n",
    "    def visit(airport):\n",
    "        # Visit all airports starting from 'airport'\n",
    "        while flights[airport]:\n",
    "            next_airport = flights[airport].pop()\n",
    "            print(next_airport, airport)\n",
    "            visit(next_airport)\n",
    "        itinerary.append(airport)\n",
    "\n",
    "    # Start the journey from JFK\n",
    "    visit(\"n\")\n",
    "    # Reverse to get the right order since we used post-order DFS\n",
    "    return itinerary[::-1]"
   ]
  },
  {
   "cell_type": "code",
   "execution_count": 14,
   "metadata": {},
   "outputs": [
    {
     "name": "stdout",
     "output_type": "stream",
     "text": [
      "defaultdict(<class 'list'>, {'s': ['l'], 'o': ['s'], 'l': ['n']})\n"
     ]
    },
    {
     "data": {
      "text/plain": [
       "['n']"
      ]
     },
     "execution_count": 14,
     "metadata": {},
     "output_type": "execute_result"
    }
   ],
   "source": [
    "findItinerary(tickets)"
   ]
  },
  {
   "cell_type": "code",
   "execution_count": null,
   "metadata": {},
   "outputs": [],
   "source": [
    "def simplify_path(path):\n",
    "    # Split the path by '/' to process each part individually\n",
    "    components = path.split('/')\n",
    "    stack = []\n",
    "\n",
    "    for part in components:\n",
    "        if part == \"..\":\n",
    "            if stack:\n",
    "                stack.pop()  # Go one directory up if possible\n",
    "        elif part == \".\" or not part:\n",
    "            # Ignore '.' and empty components (from multiple slashes)\n",
    "            continue\n",
    "        else:\n",
    "            # Valid directory name, add it to the path stack\n",
    "            stack.append(part)\n",
    "\n",
    "    # Join the stack with '/' and ensure it starts with a '/'\n",
    "    return \"/\" + \"/\".join(stack)"
   ]
  },
  {
   "cell_type": "code",
   "execution_count": 15,
   "metadata": {},
   "outputs": [],
   "source": [
    "def simplify_path(path, cwd):\n",
    "    # Determine the starting point\n",
    "    if path.startswith(\"/\"):\n",
    "        # Absolute path, so we ignore cwd\n",
    "        combined_path = path\n",
    "    else:\n",
    "        # Relative path, so start from cwd\n",
    "        combined_path = cwd.rstrip(\"/\") + \"/\" + path\n",
    "\n",
    "    # Split the combined path by '/' and initialize a stack\n",
    "    components = combined_path.split('/')\n",
    "    stack = []\n",
    "\n",
    "    # Process each component\n",
    "    for part in components:\n",
    "        if part == \"..\":\n",
    "            if stack:\n",
    "                stack.pop()  # Move up one directory if possible\n",
    "        elif part == \".\" or not part:\n",
    "            # Ignore '.' and empty components\n",
    "            continue\n",
    "        else:\n",
    "            # Valid directory name, add it to the stack\n",
    "            stack.append(part)\n",
    "\n",
    "    # Join the stack with '/' and ensure it starts with a '/'\n",
    "    return \"/\" + \"/\".join(stack)"
   ]
  },
  {
   "cell_type": "code",
   "execution_count": 17,
   "metadata": {},
   "outputs": [
    {
     "data": {
      "text/plain": [
       "'/'"
      ]
     },
     "execution_count": 17,
     "metadata": {},
     "output_type": "execute_result"
    }
   ],
   "source": [
    "simplify_path('../p/../q', '/x/y')\n",
    "simplify_path('../p/../q/../../../..', '/x/y')"
   ]
  },
  {
   "cell_type": "code",
   "execution_count": null,
   "metadata": {},
   "outputs": [],
   "source": []
  }
 ],
 "metadata": {
  "kernelspec": {
   "display_name": "Python 3",
   "language": "python",
   "name": "python3"
  },
  "language_info": {
   "codemirror_mode": {
    "name": "ipython",
    "version": 3
   },
   "file_extension": ".py",
   "mimetype": "text/x-python",
   "name": "python",
   "nbconvert_exporter": "python",
   "pygments_lexer": "ipython3",
   "version": "3.12.4"
  }
 },
 "nbformat": 4,
 "nbformat_minor": 2
}

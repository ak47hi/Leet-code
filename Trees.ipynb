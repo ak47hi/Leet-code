{
 "cells": [
  {
   "cell_type": "markdown",
   "metadata": {},
   "source": [
    "## Inserting in to a Binary Search Tree:\n",
    "    1. go left down the recursion tree if the value of the node to be inserted is less than current node\n",
    "    \n",
    "    2. go right down the recursion tree if the value of the node to be inserted is greater than the current node\n",
    "\n",
    "    Note: This way we insert only at the leaf node of the Tree\n",
    "\n",
    "```python\n",
    "def insertIntoBST(root: Optional[TreeNode], val: int) -> Optional[TreeNode]:\n",
    "    if not root: \n",
    "        return TreeNode(val)\n",
    "    else : \n",
    "        if val > root.val: root.right = insertIntoBST(root.right, val)\n",
    "        else : root.left = insertIntoBST(root.left, val)\n",
    "    return root"
   ]
  },
  {
   "cell_type": "markdown",
   "metadata": {},
   "source": [
    "## Deleting a node in BST"
   ]
  },
  {
   "cell_type": "markdown",
   "metadata": {},
   "source": [
    "![Example Image](DeleteBST.png)"
   ]
  },
  {
   "cell_type": "code",
   "execution_count": null,
   "metadata": {},
   "outputs": [],
   "source": [
    "# Definition for a binary tree node.\n",
    "# class TreeNode:\n",
    "#     def __init__(self, val=0, left=None, right=None):\n",
    "#         self.val = val\n",
    "#         self.left = left\n",
    "#         self.right = right\n",
    "class Solution:\n",
    "    def deleteNode(self, root: Optional[TreeNode], key: int) -> Optional[TreeNode]:\n",
    "        # helper function to get the inorder successor\n",
    "        def get_successor(node):\n",
    "            curr = node.right\n",
    "            while curr is not None and curr.left is not None:\n",
    "                curr = curr.left\n",
    "            return curr\n",
    "\n",
    "        if root is None:\n",
    "            return root\n",
    "        #search for the node : \n",
    "        if key > root.val:\n",
    "            root.right = self.deleteNode(root.right, key)\n",
    "        elif key < root.val:\n",
    "            root.left = self.deleteNode(root.left, key)\n",
    "        else : \n",
    "            # 1. case : no children\n",
    "            if root.left is None and root.right is None:\n",
    "                return None\n",
    "            # 2. case : only one child\n",
    "            if root.left is None : return root.right\n",
    "            if root.right is None : return root.left\n",
    "            # 3. case : both children\n",
    "                # 1. find inorder successor for current node \n",
    "                # 2. swap the values in the node to be deleted and it's inorder successor node. \n",
    "            succ = get_successor(root)\n",
    "            temp = root.val\n",
    "            root.val = succ.val\n",
    "            succ.val = temp\n",
    "            root.right = self.deleteNode(root.right,succ.val)\n",
    "            \n",
    "        return root\n",
    "\n",
    "\n",
    "\n"
   ]
  },
  {
   "cell_type": "code",
   "execution_count": null,
   "metadata": {},
   "outputs": [],
   "source": [
    "# https://leetcode.com/problems/lowest-common-ancestor-of-a-binary-search-tree/\n",
    "# the basic logic is \n",
    "# find a node which is in between the P and Q \n",
    "#  or equal to P and greater than q\n",
    "#  or equal to P and less than Q\n",
    "#  or equal to Q and greater than P\n",
    "#  or equal to Q and less than P \n",
    "\n",
    "def lowestCommonAncestor(root: 'TreeNode', p: 'TreeNode', q: 'TreeNode') -> 'TreeNode':\n",
    "    def rec(node):\n",
    "        if node : \n",
    "            if p.val > node.val and q.val > node.val :\n",
    "                return rec(node.right)\n",
    "            if p.val < node.val and q.val < node.val: \n",
    "                return rec(node.left)\n",
    "            else : \n",
    "                return node\n",
    "    return rec(root)"
   ]
  },
  {
   "cell_type": "code",
   "execution_count": null,
   "metadata": {},
   "outputs": [],
   "source": [
    "# https://leetcode.com/problems/distribute-coins-in-binary-tree/\n",
    "\n",
    "def distributeCoins(root: Optional[TreeNode]) -> int:\n",
    "    total_moves = 0\n",
    "    def rec(node) : \n",
    "        nonlocal total_moves\n",
    "        if node : \n",
    "            l = rec(node.left)\n",
    "            r = rec(node.right)\n",
    "            total_moves += abs(l) + abs(r) # to get the current sum of total left + right moves\n",
    "            return (node.val - 1) + l + r # returns the updated value of the current node(the current node keeps 1 and pass the rest from left and right and itself above)\n",
    "        else: return 0\n",
    "    rec(root)\n",
    "    return total_moves\n",
    "\n"
   ]
  },
  {
   "cell_type": "code",
   "execution_count": null,
   "metadata": {},
   "outputs": [],
   "source": [
    "# https://leetcode.com/problems/kth-smallest-element-in-a-bst/editorial/\n",
    "\n",
    "def kthSmallest(self, root: Optional[TreeNode], k: int) -> int:\n",
    "    def rec(node):\n",
    "        nonlocal k \n",
    "        if node:\n",
    "            l = rec(node.left)\n",
    "            if l  : return l\n",
    "            k -= 1\n",
    "            if k == 0: return node\n",
    "            r = rec(node.right)       \n",
    "            if r : return r\n",
    "    return rec(root).val\n",
    "    "
   ]
  },
  {
   "cell_type": "code",
   "execution_count": null,
   "metadata": {},
   "outputs": [],
   "source": [
    "# https://leetcode.com/problems/lowest-common-ancestor-of-a-binary-tree/\n",
    "\n",
    "def lowestCommonAncestor(self, root: 'TreeNode', p: 'TreeNode', q: 'TreeNode') -> 'TreeNode':\n",
    "    def rec(node):\n",
    "        if node:\n",
    "            l = rec(node.left)\n",
    "            r = rec(node.right)\n",
    "            if node.val in [p.val, q.val] or (l and r) :\n",
    "                return node\n",
    "            else: \n",
    "                return l or r # return any node if found in l or r subtree from current rec to parent rec call\n",
    "    \n",
    "    return rec(root)"
   ]
  },
  {
   "cell_type": "markdown",
   "metadata": {},
   "source": [
    "## NOTES or IMPORTANT LEARNING to avoid pitfalls:\n",
    "    1. Always return a node, instead of the value of a node. (if you return a value and if there is a 0 in the node.val then some of the boolean \n",
    "    condition in the recursion function might fail and to overcome this we have to explicitly mention the node.val != None or something like that)\n",
    "    \n",
    "    2. Ways to pass info/val/node/anything at boolean value and direct this result to the recursive call on the root node.\n",
    "        1. Clean and goes with boolean condition\n",
    "```python \n",
    "        if p.val > node.val and q.val > node.val: # (Boolean condition and return the value from the current recur function to the parent recur function)\n",
    "            return rec(node.right)       \n",
    "```\n",
    "        2. retarded way using a variable:\n",
    "            1. pass a value from a base case to a variable \n",
    "            2. then return to parent base on a condition\n",
    "```python\n",
    "        # https://leetcode.com/problems/kth-smallest-element-in-a-bst/\n",
    "        def kthSmallest(self, root: Optional[TreeNode], k: int) -> int:\n",
    "            def rec(node):\n",
    "                nonlocal k \n",
    "                if node:\n",
    "                    l = rec(node.left) # get some value from left recursive call\n",
    "                    if l  : return l # return the val from base case to parent\n",
    "                    k -= 1  # do something \n",
    "                    if k == 0: return node # hit the base case\n",
    "                    r = rec(node.right) # get some value from the right recursive call\n",
    "                    if r : return r # return the val from base case to parent\n",
    "            return rec(root).val\n",
    "\n"
   ]
  },
  {
   "cell_type": "markdown",
   "metadata": {},
   "source": []
  }
 ],
 "metadata": {
  "language_info": {
   "name": "python"
  }
 },
 "nbformat": 4,
 "nbformat_minor": 2
}
